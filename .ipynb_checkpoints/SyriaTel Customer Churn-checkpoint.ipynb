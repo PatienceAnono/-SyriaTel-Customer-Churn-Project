{
 "cells": [
  {
   "cell_type": "markdown",
   "id": "f513d1c7",
   "metadata": {},
   "source": [
    " \n",
    "# 1. **Introduction**  \n",
    "Customer churn is the percentage of customers that stopped using company's product or service during a certain time frame.The goal of this project is to build a classifier to predict potential churning customers and suggest recommendations to keep the customers.\n",
    "\n",
    "\n",
    "\n"
   ]
  },
  {
   "cell_type": "markdown",
   "id": "a5547300",
   "metadata": {},
   "source": [
    "## 2. Business Understanding  \n",
    "\n"
   ]
  },
  {
   "cell_type": "markdown",
   "id": "402b7f39",
   "metadata": {},
   "source": [
    "### 2.1. Problem  \n",
    "Customer churn is one of the most important metrics for a growing business to evaluate as it is much less expensive to retain existing customers than it is to acquire new customers. Customers in the telecom industry can choose from a variety of service providers and actively switch from one to the next.The technical progress and the increasing number of operators has raised the level of competition. Companies are working hard to survive in this competitive market depending on multiple strategies. This becomes a problem, as Telecom companies usually incur huge costs to attract subscribers.Since it is costly to lose customers, the goal is to use this data to build a classifier that can predict which customers will stop dealing with them for another provider, and identify how the company can avoid the loss of those customers. \n",
    "\n",
    "### 2.2. Aim  \n",
    "Due to the direct effect on the revenues of the companies, especially in the telecom field, SyriaTel is seeking to develop means to predict potential customer to churn. Therefore, finding factors that increase customer churn is important to take necessary actions to reduce this churn. "
   ]
  },
  {
   "cell_type": "markdown",
   "id": "0e6a7167",
   "metadata": {},
   "source": [
    "## 2.3. Objectives  \n",
    "-To build a ML model that predicts the customers that are most likely to churn with an acceptably high accuracy.    \n",
    "-To compare different ML models predictions to achieve highest accuracy.    .  \n",
    "-Identify customers that are likely to churn.  \n",
    "-Advice the Company on best the strategy.\n",
    "\n"
   ]
  },
  {
   "cell_type": "markdown",
   "id": "c8e276a1",
   "metadata": {},
   "source": [
    "# 3. Data Understanding"
   ]
  },
  {
   "cell_type": "markdown",
   "id": "40d00637",
   "metadata": {},
   "source": [
    "We going to perform Exploratory Data Analysis as part of the steps towards building and deploying a churn prediction model, based on the dataset from Kaggle which is an online community of data scientists and machine learning practitioners.     \n",
    "For this project i only have one data set to use.  \n",
    "The target variable will be churn which indicates a true if a customer churns and false if the customer does not churn.  \n",
    "The features include:  \n",
    "State    \n",
    "Account length  \n",
    "phone number\n",
    "International plan  \n",
    "voice mail plan  \n",
    "voice messages  "
   ]
  },
  {
   "cell_type": "markdown",
   "id": "1b7d6565",
   "metadata": {},
   "source": [
    "# 4. Requirements"
   ]
  },
  {
   "cell_type": "markdown",
   "id": "491b05c6",
   "metadata": {},
   "source": [
    "1. Data Preparation\n",
    "       - Loading Libraries\n",
    "       - Loading data\n",
    "       - Descriptive Exploration\n",
    "       - Data Cleaning\n",
    "       - Exploratory Descriptive Analysis (EDA)\n",
    "       - Pre-processing Data\n",
    "2.  Modelling\n",
    "        - Train test split\n",
    "        - Baseline Model\n",
    "        - Random Forest\n",
    "        - Decision Tree\n",
    "        - K-Nearest Neighbours Algorithm\n",
    "        - Evaluation\n",
    "4.  Conclusion\n",
    "5.  Recommendation"
   ]
  },
  {
   "cell_type": "markdown",
   "id": "95e2536e",
   "metadata": {},
   "source": [
    "# 5. Loading Data"
   ]
  },
  {
   "cell_type": "markdown",
   "id": "8e152a23",
   "metadata": {},
   "source": [
    "## 5.1. Loading Libraries  \n",
    "Loading all relevant libraries for this notebook"
   ]
  },
  {
   "cell_type": "code",
   "execution_count": 1,
   "id": "abaaf384",
   "metadata": {},
   "outputs": [],
   "source": [
    "# import the necessary libraries\n",
    "import pandas as pd\n",
    "import numpy as np\n",
    "import matplotlib.pyplot as plt\n",
    "import seaborn as sns\n",
    "\n",
    "from scipy.stats import norm\n",
    "\n",
    "from sklearn.naive_bayes import GaussianNB\n",
    "from sklearn.tree import DecisionTreeClassifier\n",
    "from sklearn.preprocessing import StandardScaler\n",
    "from sklearn.neighbors import KNeighborsClassifier\n",
    "from sklearn.linear_model import LogisticRegression\n",
    "from imblearn.over_sampling import SMOTE\n",
    "\n",
    "from sklearn.compose import ColumnTransformer\n",
    "from sklearn.preprocessing import OneHotEncoder\n",
    "from sklearn.preprocessing import LabelEncoder\n",
    "from sklearn.metrics import accuracy_score, precision_score, recall_score,f1_score, classification_report\n",
    "from sklearn.metrics import log_loss, accuracy_score, roc_curve, auc, plot_confusion_matrix\n",
    "from sklearn.ensemble import RandomForestClassifier, BaggingClassifier, RandomForestRegressor\n",
    "from sklearn.model_selection import cross_val_score, RandomizedSearchCV, train_test_split, GridSearchCV\n",
    "\n",
    "import warnings\n",
    "warnings.filterwarnings(\"ignore\") \n"
   ]
  },
  {
   "cell_type": "markdown",
   "id": "24797815",
   "metadata": {},
   "source": [
    "## 5.2. Loading Datasets"
   ]
  },
  {
   "cell_type": "code",
   "execution_count": 2,
   "id": "5644ad07",
   "metadata": {},
   "outputs": [
    {
     "data": {
      "text/html": [
       "<div>\n",
       "<style scoped>\n",
       "    .dataframe tbody tr th:only-of-type {\n",
       "        vertical-align: middle;\n",
       "    }\n",
       "\n",
       "    .dataframe tbody tr th {\n",
       "        vertical-align: top;\n",
       "    }\n",
       "\n",
       "    .dataframe thead th {\n",
       "        text-align: right;\n",
       "    }\n",
       "</style>\n",
       "<table border=\"1\" class=\"dataframe\">\n",
       "  <thead>\n",
       "    <tr style=\"text-align: right;\">\n",
       "      <th></th>\n",
       "      <th>state</th>\n",
       "      <th>account length</th>\n",
       "      <th>area code</th>\n",
       "      <th>phone number</th>\n",
       "      <th>international plan</th>\n",
       "      <th>voice mail plan</th>\n",
       "      <th>number vmail messages</th>\n",
       "      <th>total day minutes</th>\n",
       "      <th>total day calls</th>\n",
       "      <th>total day charge</th>\n",
       "      <th>...</th>\n",
       "      <th>total eve calls</th>\n",
       "      <th>total eve charge</th>\n",
       "      <th>total night minutes</th>\n",
       "      <th>total night calls</th>\n",
       "      <th>total night charge</th>\n",
       "      <th>total intl minutes</th>\n",
       "      <th>total intl calls</th>\n",
       "      <th>total intl charge</th>\n",
       "      <th>customer service calls</th>\n",
       "      <th>churn</th>\n",
       "    </tr>\n",
       "  </thead>\n",
       "  <tbody>\n",
       "    <tr>\n",
       "      <th>0</th>\n",
       "      <td>KS</td>\n",
       "      <td>128</td>\n",
       "      <td>415</td>\n",
       "      <td>382-4657</td>\n",
       "      <td>no</td>\n",
       "      <td>yes</td>\n",
       "      <td>25</td>\n",
       "      <td>265.1</td>\n",
       "      <td>110</td>\n",
       "      <td>45.07</td>\n",
       "      <td>...</td>\n",
       "      <td>99</td>\n",
       "      <td>16.78</td>\n",
       "      <td>244.7</td>\n",
       "      <td>91</td>\n",
       "      <td>11.01</td>\n",
       "      <td>10.0</td>\n",
       "      <td>3</td>\n",
       "      <td>2.70</td>\n",
       "      <td>1</td>\n",
       "      <td>False</td>\n",
       "    </tr>\n",
       "    <tr>\n",
       "      <th>1</th>\n",
       "      <td>OH</td>\n",
       "      <td>107</td>\n",
       "      <td>415</td>\n",
       "      <td>371-7191</td>\n",
       "      <td>no</td>\n",
       "      <td>yes</td>\n",
       "      <td>26</td>\n",
       "      <td>161.6</td>\n",
       "      <td>123</td>\n",
       "      <td>27.47</td>\n",
       "      <td>...</td>\n",
       "      <td>103</td>\n",
       "      <td>16.62</td>\n",
       "      <td>254.4</td>\n",
       "      <td>103</td>\n",
       "      <td>11.45</td>\n",
       "      <td>13.7</td>\n",
       "      <td>3</td>\n",
       "      <td>3.70</td>\n",
       "      <td>1</td>\n",
       "      <td>False</td>\n",
       "    </tr>\n",
       "    <tr>\n",
       "      <th>2</th>\n",
       "      <td>NJ</td>\n",
       "      <td>137</td>\n",
       "      <td>415</td>\n",
       "      <td>358-1921</td>\n",
       "      <td>no</td>\n",
       "      <td>no</td>\n",
       "      <td>0</td>\n",
       "      <td>243.4</td>\n",
       "      <td>114</td>\n",
       "      <td>41.38</td>\n",
       "      <td>...</td>\n",
       "      <td>110</td>\n",
       "      <td>10.30</td>\n",
       "      <td>162.6</td>\n",
       "      <td>104</td>\n",
       "      <td>7.32</td>\n",
       "      <td>12.2</td>\n",
       "      <td>5</td>\n",
       "      <td>3.29</td>\n",
       "      <td>0</td>\n",
       "      <td>False</td>\n",
       "    </tr>\n",
       "    <tr>\n",
       "      <th>3</th>\n",
       "      <td>OH</td>\n",
       "      <td>84</td>\n",
       "      <td>408</td>\n",
       "      <td>375-9999</td>\n",
       "      <td>yes</td>\n",
       "      <td>no</td>\n",
       "      <td>0</td>\n",
       "      <td>299.4</td>\n",
       "      <td>71</td>\n",
       "      <td>50.90</td>\n",
       "      <td>...</td>\n",
       "      <td>88</td>\n",
       "      <td>5.26</td>\n",
       "      <td>196.9</td>\n",
       "      <td>89</td>\n",
       "      <td>8.86</td>\n",
       "      <td>6.6</td>\n",
       "      <td>7</td>\n",
       "      <td>1.78</td>\n",
       "      <td>2</td>\n",
       "      <td>False</td>\n",
       "    </tr>\n",
       "    <tr>\n",
       "      <th>4</th>\n",
       "      <td>OK</td>\n",
       "      <td>75</td>\n",
       "      <td>415</td>\n",
       "      <td>330-6626</td>\n",
       "      <td>yes</td>\n",
       "      <td>no</td>\n",
       "      <td>0</td>\n",
       "      <td>166.7</td>\n",
       "      <td>113</td>\n",
       "      <td>28.34</td>\n",
       "      <td>...</td>\n",
       "      <td>122</td>\n",
       "      <td>12.61</td>\n",
       "      <td>186.9</td>\n",
       "      <td>121</td>\n",
       "      <td>8.41</td>\n",
       "      <td>10.1</td>\n",
       "      <td>3</td>\n",
       "      <td>2.73</td>\n",
       "      <td>3</td>\n",
       "      <td>False</td>\n",
       "    </tr>\n",
       "  </tbody>\n",
       "</table>\n",
       "<p>5 rows × 21 columns</p>\n",
       "</div>"
      ],
      "text/plain": [
       "  state  account length  area code phone number international plan  \\\n",
       "0    KS             128        415     382-4657                 no   \n",
       "1    OH             107        415     371-7191                 no   \n",
       "2    NJ             137        415     358-1921                 no   \n",
       "3    OH              84        408     375-9999                yes   \n",
       "4    OK              75        415     330-6626                yes   \n",
       "\n",
       "  voice mail plan  number vmail messages  total day minutes  total day calls  \\\n",
       "0             yes                     25              265.1              110   \n",
       "1             yes                     26              161.6              123   \n",
       "2              no                      0              243.4              114   \n",
       "3              no                      0              299.4               71   \n",
       "4              no                      0              166.7              113   \n",
       "\n",
       "   total day charge  ...  total eve calls  total eve charge  \\\n",
       "0             45.07  ...               99             16.78   \n",
       "1             27.47  ...              103             16.62   \n",
       "2             41.38  ...              110             10.30   \n",
       "3             50.90  ...               88              5.26   \n",
       "4             28.34  ...              122             12.61   \n",
       "\n",
       "   total night minutes  total night calls  total night charge  \\\n",
       "0                244.7                 91               11.01   \n",
       "1                254.4                103               11.45   \n",
       "2                162.6                104                7.32   \n",
       "3                196.9                 89                8.86   \n",
       "4                186.9                121                8.41   \n",
       "\n",
       "   total intl minutes  total intl calls  total intl charge  \\\n",
       "0                10.0                 3               2.70   \n",
       "1                13.7                 3               3.70   \n",
       "2                12.2                 5               3.29   \n",
       "3                 6.6                 7               1.78   \n",
       "4                10.1                 3               2.73   \n",
       "\n",
       "   customer service calls  churn  \n",
       "0                       1  False  \n",
       "1                       1  False  \n",
       "2                       0  False  \n",
       "3                       2  False  \n",
       "4                       3  False  \n",
       "\n",
       "[5 rows x 21 columns]"
      ]
     },
     "execution_count": 2,
     "metadata": {},
     "output_type": "execute_result"
    }
   ],
   "source": [
    "# Loading datasets\n",
    "dataset = pd.read_csv('bigml_59c28831336c6604c800002a.csv')\n",
    "dataset.head()"
   ]
  },
  {
   "cell_type": "code",
   "execution_count": 3,
   "id": "7d7a4401",
   "metadata": {},
   "outputs": [
    {
     "data": {
      "text/html": [
       "<div>\n",
       "<style scoped>\n",
       "    .dataframe tbody tr th:only-of-type {\n",
       "        vertical-align: middle;\n",
       "    }\n",
       "\n",
       "    .dataframe tbody tr th {\n",
       "        vertical-align: top;\n",
       "    }\n",
       "\n",
       "    .dataframe thead th {\n",
       "        text-align: right;\n",
       "    }\n",
       "</style>\n",
       "<table border=\"1\" class=\"dataframe\">\n",
       "  <thead>\n",
       "    <tr style=\"text-align: right;\">\n",
       "      <th></th>\n",
       "      <th>state</th>\n",
       "      <th>account length</th>\n",
       "      <th>area code</th>\n",
       "      <th>phone number</th>\n",
       "      <th>international plan</th>\n",
       "      <th>voice mail plan</th>\n",
       "      <th>number vmail messages</th>\n",
       "      <th>total day minutes</th>\n",
       "      <th>total day calls</th>\n",
       "      <th>total day charge</th>\n",
       "      <th>total eve minutes</th>\n",
       "      <th>total eve calls</th>\n",
       "      <th>total eve charge</th>\n",
       "      <th>total night minutes</th>\n",
       "      <th>total night calls</th>\n",
       "      <th>total night charge</th>\n",
       "      <th>total intl minutes</th>\n",
       "      <th>total intl calls</th>\n",
       "      <th>total intl charge</th>\n",
       "      <th>customer service calls</th>\n",
       "      <th>churn</th>\n",
       "    </tr>\n",
       "  </thead>\n",
       "  <tbody>\n",
       "    <tr>\n",
       "      <th>0</th>\n",
       "      <td>KS</td>\n",
       "      <td>128</td>\n",
       "      <td>415</td>\n",
       "      <td>382-4657</td>\n",
       "      <td>no</td>\n",
       "      <td>yes</td>\n",
       "      <td>25</td>\n",
       "      <td>265.1</td>\n",
       "      <td>110</td>\n",
       "      <td>45.07</td>\n",
       "      <td>197.4</td>\n",
       "      <td>99</td>\n",
       "      <td>16.78</td>\n",
       "      <td>244.7</td>\n",
       "      <td>91</td>\n",
       "      <td>11.01</td>\n",
       "      <td>10.0</td>\n",
       "      <td>3</td>\n",
       "      <td>2.70</td>\n",
       "      <td>1</td>\n",
       "      <td>False</td>\n",
       "    </tr>\n",
       "    <tr>\n",
       "      <th>1</th>\n",
       "      <td>OH</td>\n",
       "      <td>107</td>\n",
       "      <td>415</td>\n",
       "      <td>371-7191</td>\n",
       "      <td>no</td>\n",
       "      <td>yes</td>\n",
       "      <td>26</td>\n",
       "      <td>161.6</td>\n",
       "      <td>123</td>\n",
       "      <td>27.47</td>\n",
       "      <td>195.5</td>\n",
       "      <td>103</td>\n",
       "      <td>16.62</td>\n",
       "      <td>254.4</td>\n",
       "      <td>103</td>\n",
       "      <td>11.45</td>\n",
       "      <td>13.7</td>\n",
       "      <td>3</td>\n",
       "      <td>3.70</td>\n",
       "      <td>1</td>\n",
       "      <td>False</td>\n",
       "    </tr>\n",
       "    <tr>\n",
       "      <th>2</th>\n",
       "      <td>NJ</td>\n",
       "      <td>137</td>\n",
       "      <td>415</td>\n",
       "      <td>358-1921</td>\n",
       "      <td>no</td>\n",
       "      <td>no</td>\n",
       "      <td>0</td>\n",
       "      <td>243.4</td>\n",
       "      <td>114</td>\n",
       "      <td>41.38</td>\n",
       "      <td>121.2</td>\n",
       "      <td>110</td>\n",
       "      <td>10.30</td>\n",
       "      <td>162.6</td>\n",
       "      <td>104</td>\n",
       "      <td>7.32</td>\n",
       "      <td>12.2</td>\n",
       "      <td>5</td>\n",
       "      <td>3.29</td>\n",
       "      <td>0</td>\n",
       "      <td>False</td>\n",
       "    </tr>\n",
       "    <tr>\n",
       "      <th>3</th>\n",
       "      <td>OH</td>\n",
       "      <td>84</td>\n",
       "      <td>408</td>\n",
       "      <td>375-9999</td>\n",
       "      <td>yes</td>\n",
       "      <td>no</td>\n",
       "      <td>0</td>\n",
       "      <td>299.4</td>\n",
       "      <td>71</td>\n",
       "      <td>50.90</td>\n",
       "      <td>61.9</td>\n",
       "      <td>88</td>\n",
       "      <td>5.26</td>\n",
       "      <td>196.9</td>\n",
       "      <td>89</td>\n",
       "      <td>8.86</td>\n",
       "      <td>6.6</td>\n",
       "      <td>7</td>\n",
       "      <td>1.78</td>\n",
       "      <td>2</td>\n",
       "      <td>False</td>\n",
       "    </tr>\n",
       "    <tr>\n",
       "      <th>4</th>\n",
       "      <td>OK</td>\n",
       "      <td>75</td>\n",
       "      <td>415</td>\n",
       "      <td>330-6626</td>\n",
       "      <td>yes</td>\n",
       "      <td>no</td>\n",
       "      <td>0</td>\n",
       "      <td>166.7</td>\n",
       "      <td>113</td>\n",
       "      <td>28.34</td>\n",
       "      <td>148.3</td>\n",
       "      <td>122</td>\n",
       "      <td>12.61</td>\n",
       "      <td>186.9</td>\n",
       "      <td>121</td>\n",
       "      <td>8.41</td>\n",
       "      <td>10.1</td>\n",
       "      <td>3</td>\n",
       "      <td>2.73</td>\n",
       "      <td>3</td>\n",
       "      <td>False</td>\n",
       "    </tr>\n",
       "  </tbody>\n",
       "</table>\n",
       "</div>"
      ],
      "text/plain": [
       "  state  account length  area code phone number international plan  \\\n",
       "0    KS             128        415     382-4657                 no   \n",
       "1    OH             107        415     371-7191                 no   \n",
       "2    NJ             137        415     358-1921                 no   \n",
       "3    OH              84        408     375-9999                yes   \n",
       "4    OK              75        415     330-6626                yes   \n",
       "\n",
       "  voice mail plan  number vmail messages  total day minutes  total day calls  \\\n",
       "0             yes                     25              265.1              110   \n",
       "1             yes                     26              161.6              123   \n",
       "2              no                      0              243.4              114   \n",
       "3              no                      0              299.4               71   \n",
       "4              no                      0              166.7              113   \n",
       "\n",
       "   total day charge  total eve minutes  total eve calls  total eve charge  \\\n",
       "0             45.07              197.4               99             16.78   \n",
       "1             27.47              195.5              103             16.62   \n",
       "2             41.38              121.2              110             10.30   \n",
       "3             50.90               61.9               88              5.26   \n",
       "4             28.34              148.3              122             12.61   \n",
       "\n",
       "   total night minutes  total night calls  total night charge  \\\n",
       "0                244.7                 91               11.01   \n",
       "1                254.4                103               11.45   \n",
       "2                162.6                104                7.32   \n",
       "3                196.9                 89                8.86   \n",
       "4                186.9                121                8.41   \n",
       "\n",
       "   total intl minutes  total intl calls  total intl charge  \\\n",
       "0                10.0                 3               2.70   \n",
       "1                13.7                 3               3.70   \n",
       "2                12.2                 5               3.29   \n",
       "3                 6.6                 7               1.78   \n",
       "4                10.1                 3               2.73   \n",
       "\n",
       "   customer service calls  churn  \n",
       "0                       1  False  \n",
       "1                       1  False  \n",
       "2                       0  False  \n",
       "3                       2  False  \n",
       "4                       3  False  "
      ]
     },
     "execution_count": 3,
     "metadata": {},
     "output_type": "execute_result"
    }
   ],
   "source": [
    "# Expand view of dataframe\n",
    "pd.set_option(\"display.max_columns\",None)\n",
    "dataset.head()"
   ]
  },
  {
   "cell_type": "markdown",
   "id": "5c7b8116",
   "metadata": {},
   "source": [
    "## 5.3 Explore dataframes  \n",
    " Descriptive exploration of data"
   ]
  },
  {
   "cell_type": "code",
   "execution_count": 4,
   "id": "fe9ebbbe",
   "metadata": {},
   "outputs": [],
   "source": [
    "#create a copy of the dataset without changing the original \n",
    "data = dataset.copy()"
   ]
  },
  {
   "cell_type": "code",
   "execution_count": 5,
   "id": "521bc331",
   "metadata": {},
   "outputs": [
    {
     "data": {
      "text/plain": [
       "(3333, 21)"
      ]
     },
     "execution_count": 5,
     "metadata": {},
     "output_type": "execute_result"
    }
   ],
   "source": [
    "#Determining the no. of records in our dataset\n",
    "data.shape"
   ]
  },
  {
   "cell_type": "code",
   "execution_count": 6,
   "id": "81bb1d28",
   "metadata": {},
   "outputs": [
    {
     "name": "stdout",
     "output_type": "stream",
     "text": [
      "<class 'pandas.core.frame.DataFrame'>\n",
      "RangeIndex: 3333 entries, 0 to 3332\n",
      "Data columns (total 21 columns):\n",
      " #   Column                  Non-Null Count  Dtype  \n",
      "---  ------                  --------------  -----  \n",
      " 0   state                   3333 non-null   object \n",
      " 1   account length          3333 non-null   int64  \n",
      " 2   area code               3333 non-null   int64  \n",
      " 3   phone number            3333 non-null   object \n",
      " 4   international plan      3333 non-null   object \n",
      " 5   voice mail plan         3333 non-null   object \n",
      " 6   number vmail messages   3333 non-null   int64  \n",
      " 7   total day minutes       3333 non-null   float64\n",
      " 8   total day calls         3333 non-null   int64  \n",
      " 9   total day charge        3333 non-null   float64\n",
      " 10  total eve minutes       3333 non-null   float64\n",
      " 11  total eve calls         3333 non-null   int64  \n",
      " 12  total eve charge        3333 non-null   float64\n",
      " 13  total night minutes     3333 non-null   float64\n",
      " 14  total night calls       3333 non-null   int64  \n",
      " 15  total night charge      3333 non-null   float64\n",
      " 16  total intl minutes      3333 non-null   float64\n",
      " 17  total intl calls        3333 non-null   int64  \n",
      " 18  total intl charge       3333 non-null   float64\n",
      " 19  customer service calls  3333 non-null   int64  \n",
      " 20  churn                   3333 non-null   bool   \n",
      "dtypes: bool(1), float64(8), int64(8), object(4)\n",
      "memory usage: 524.2+ KB\n"
     ]
    }
   ],
   "source": [
    "# Check dataframe information\n",
    "data.info()"
   ]
  },
  {
   "cell_type": "code",
   "execution_count": 7,
   "id": "88a0a1eb",
   "metadata": {},
   "outputs": [
    {
     "data": {
      "text/plain": [
       "state                       51\n",
       "account length             212\n",
       "area code                    3\n",
       "phone number              3333\n",
       "international plan           2\n",
       "voice mail plan              2\n",
       "number vmail messages       46\n",
       "total day minutes         1667\n",
       "total day calls            119\n",
       "total day charge          1667\n",
       "total eve minutes         1611\n",
       "total eve calls            123\n",
       "total eve charge          1440\n",
       "total night minutes       1591\n",
       "total night calls          120\n",
       "total night charge         933\n",
       "total intl minutes         162\n",
       "total intl calls            21\n",
       "total intl charge          162\n",
       "customer service calls      10\n",
       "churn                        2\n",
       "dtype: int64"
      ]
     },
     "execution_count": 7,
     "metadata": {},
     "output_type": "execute_result"
    }
   ],
   "source": [
    "# Get unique values for columns\n",
    "data.nunique()"
   ]
  },
  {
   "cell_type": "code",
   "execution_count": 8,
   "id": "4a55d816",
   "metadata": {},
   "outputs": [
    {
     "data": {
      "text/html": [
       "<div>\n",
       "<style scoped>\n",
       "    .dataframe tbody tr th:only-of-type {\n",
       "        vertical-align: middle;\n",
       "    }\n",
       "\n",
       "    .dataframe tbody tr th {\n",
       "        vertical-align: top;\n",
       "    }\n",
       "\n",
       "    .dataframe thead th {\n",
       "        text-align: right;\n",
       "    }\n",
       "</style>\n",
       "<table border=\"1\" class=\"dataframe\">\n",
       "  <thead>\n",
       "    <tr style=\"text-align: right;\">\n",
       "      <th></th>\n",
       "      <th>account length</th>\n",
       "      <th>area code</th>\n",
       "      <th>number vmail messages</th>\n",
       "      <th>total day minutes</th>\n",
       "      <th>total day calls</th>\n",
       "      <th>total day charge</th>\n",
       "      <th>total eve minutes</th>\n",
       "      <th>total eve calls</th>\n",
       "      <th>total eve charge</th>\n",
       "      <th>total night minutes</th>\n",
       "      <th>total night calls</th>\n",
       "      <th>total night charge</th>\n",
       "      <th>total intl minutes</th>\n",
       "      <th>total intl calls</th>\n",
       "      <th>total intl charge</th>\n",
       "      <th>customer service calls</th>\n",
       "    </tr>\n",
       "  </thead>\n",
       "  <tbody>\n",
       "    <tr>\n",
       "      <th>count</th>\n",
       "      <td>3333.000000</td>\n",
       "      <td>3333.000000</td>\n",
       "      <td>3333.000000</td>\n",
       "      <td>3333.000000</td>\n",
       "      <td>3333.000000</td>\n",
       "      <td>3333.000000</td>\n",
       "      <td>3333.000000</td>\n",
       "      <td>3333.000000</td>\n",
       "      <td>3333.000000</td>\n",
       "      <td>3333.000000</td>\n",
       "      <td>3333.000000</td>\n",
       "      <td>3333.000000</td>\n",
       "      <td>3333.000000</td>\n",
       "      <td>3333.000000</td>\n",
       "      <td>3333.000000</td>\n",
       "      <td>3333.000000</td>\n",
       "    </tr>\n",
       "    <tr>\n",
       "      <th>mean</th>\n",
       "      <td>101.064806</td>\n",
       "      <td>437.182418</td>\n",
       "      <td>8.099010</td>\n",
       "      <td>179.775098</td>\n",
       "      <td>100.435644</td>\n",
       "      <td>30.562307</td>\n",
       "      <td>200.980348</td>\n",
       "      <td>100.114311</td>\n",
       "      <td>17.083540</td>\n",
       "      <td>200.872037</td>\n",
       "      <td>100.107711</td>\n",
       "      <td>9.039325</td>\n",
       "      <td>10.237294</td>\n",
       "      <td>4.479448</td>\n",
       "      <td>2.764581</td>\n",
       "      <td>1.562856</td>\n",
       "    </tr>\n",
       "    <tr>\n",
       "      <th>std</th>\n",
       "      <td>39.822106</td>\n",
       "      <td>42.371290</td>\n",
       "      <td>13.688365</td>\n",
       "      <td>54.467389</td>\n",
       "      <td>20.069084</td>\n",
       "      <td>9.259435</td>\n",
       "      <td>50.713844</td>\n",
       "      <td>19.922625</td>\n",
       "      <td>4.310668</td>\n",
       "      <td>50.573847</td>\n",
       "      <td>19.568609</td>\n",
       "      <td>2.275873</td>\n",
       "      <td>2.791840</td>\n",
       "      <td>2.461214</td>\n",
       "      <td>0.753773</td>\n",
       "      <td>1.315491</td>\n",
       "    </tr>\n",
       "    <tr>\n",
       "      <th>min</th>\n",
       "      <td>1.000000</td>\n",
       "      <td>408.000000</td>\n",
       "      <td>0.000000</td>\n",
       "      <td>0.000000</td>\n",
       "      <td>0.000000</td>\n",
       "      <td>0.000000</td>\n",
       "      <td>0.000000</td>\n",
       "      <td>0.000000</td>\n",
       "      <td>0.000000</td>\n",
       "      <td>23.200000</td>\n",
       "      <td>33.000000</td>\n",
       "      <td>1.040000</td>\n",
       "      <td>0.000000</td>\n",
       "      <td>0.000000</td>\n",
       "      <td>0.000000</td>\n",
       "      <td>0.000000</td>\n",
       "    </tr>\n",
       "    <tr>\n",
       "      <th>25%</th>\n",
       "      <td>74.000000</td>\n",
       "      <td>408.000000</td>\n",
       "      <td>0.000000</td>\n",
       "      <td>143.700000</td>\n",
       "      <td>87.000000</td>\n",
       "      <td>24.430000</td>\n",
       "      <td>166.600000</td>\n",
       "      <td>87.000000</td>\n",
       "      <td>14.160000</td>\n",
       "      <td>167.000000</td>\n",
       "      <td>87.000000</td>\n",
       "      <td>7.520000</td>\n",
       "      <td>8.500000</td>\n",
       "      <td>3.000000</td>\n",
       "      <td>2.300000</td>\n",
       "      <td>1.000000</td>\n",
       "    </tr>\n",
       "    <tr>\n",
       "      <th>50%</th>\n",
       "      <td>101.000000</td>\n",
       "      <td>415.000000</td>\n",
       "      <td>0.000000</td>\n",
       "      <td>179.400000</td>\n",
       "      <td>101.000000</td>\n",
       "      <td>30.500000</td>\n",
       "      <td>201.400000</td>\n",
       "      <td>100.000000</td>\n",
       "      <td>17.120000</td>\n",
       "      <td>201.200000</td>\n",
       "      <td>100.000000</td>\n",
       "      <td>9.050000</td>\n",
       "      <td>10.300000</td>\n",
       "      <td>4.000000</td>\n",
       "      <td>2.780000</td>\n",
       "      <td>1.000000</td>\n",
       "    </tr>\n",
       "    <tr>\n",
       "      <th>75%</th>\n",
       "      <td>127.000000</td>\n",
       "      <td>510.000000</td>\n",
       "      <td>20.000000</td>\n",
       "      <td>216.400000</td>\n",
       "      <td>114.000000</td>\n",
       "      <td>36.790000</td>\n",
       "      <td>235.300000</td>\n",
       "      <td>114.000000</td>\n",
       "      <td>20.000000</td>\n",
       "      <td>235.300000</td>\n",
       "      <td>113.000000</td>\n",
       "      <td>10.590000</td>\n",
       "      <td>12.100000</td>\n",
       "      <td>6.000000</td>\n",
       "      <td>3.270000</td>\n",
       "      <td>2.000000</td>\n",
       "    </tr>\n",
       "    <tr>\n",
       "      <th>max</th>\n",
       "      <td>243.000000</td>\n",
       "      <td>510.000000</td>\n",
       "      <td>51.000000</td>\n",
       "      <td>350.800000</td>\n",
       "      <td>165.000000</td>\n",
       "      <td>59.640000</td>\n",
       "      <td>363.700000</td>\n",
       "      <td>170.000000</td>\n",
       "      <td>30.910000</td>\n",
       "      <td>395.000000</td>\n",
       "      <td>175.000000</td>\n",
       "      <td>17.770000</td>\n",
       "      <td>20.000000</td>\n",
       "      <td>20.000000</td>\n",
       "      <td>5.400000</td>\n",
       "      <td>9.000000</td>\n",
       "    </tr>\n",
       "  </tbody>\n",
       "</table>\n",
       "</div>"
      ],
      "text/plain": [
       "       account length    area code  number vmail messages  total day minutes  \\\n",
       "count     3333.000000  3333.000000            3333.000000        3333.000000   \n",
       "mean       101.064806   437.182418               8.099010         179.775098   \n",
       "std         39.822106    42.371290              13.688365          54.467389   \n",
       "min          1.000000   408.000000               0.000000           0.000000   \n",
       "25%         74.000000   408.000000               0.000000         143.700000   \n",
       "50%        101.000000   415.000000               0.000000         179.400000   \n",
       "75%        127.000000   510.000000              20.000000         216.400000   \n",
       "max        243.000000   510.000000              51.000000         350.800000   \n",
       "\n",
       "       total day calls  total day charge  total eve minutes  total eve calls  \\\n",
       "count      3333.000000       3333.000000        3333.000000      3333.000000   \n",
       "mean        100.435644         30.562307         200.980348       100.114311   \n",
       "std          20.069084          9.259435          50.713844        19.922625   \n",
       "min           0.000000          0.000000           0.000000         0.000000   \n",
       "25%          87.000000         24.430000         166.600000        87.000000   \n",
       "50%         101.000000         30.500000         201.400000       100.000000   \n",
       "75%         114.000000         36.790000         235.300000       114.000000   \n",
       "max         165.000000         59.640000         363.700000       170.000000   \n",
       "\n",
       "       total eve charge  total night minutes  total night calls  \\\n",
       "count       3333.000000          3333.000000        3333.000000   \n",
       "mean          17.083540           200.872037         100.107711   \n",
       "std            4.310668            50.573847          19.568609   \n",
       "min            0.000000            23.200000          33.000000   \n",
       "25%           14.160000           167.000000          87.000000   \n",
       "50%           17.120000           201.200000         100.000000   \n",
       "75%           20.000000           235.300000         113.000000   \n",
       "max           30.910000           395.000000         175.000000   \n",
       "\n",
       "       total night charge  total intl minutes  total intl calls  \\\n",
       "count         3333.000000         3333.000000       3333.000000   \n",
       "mean             9.039325           10.237294          4.479448   \n",
       "std              2.275873            2.791840          2.461214   \n",
       "min              1.040000            0.000000          0.000000   \n",
       "25%              7.520000            8.500000          3.000000   \n",
       "50%              9.050000           10.300000          4.000000   \n",
       "75%             10.590000           12.100000          6.000000   \n",
       "max             17.770000           20.000000         20.000000   \n",
       "\n",
       "       total intl charge  customer service calls  \n",
       "count        3333.000000             3333.000000  \n",
       "mean            2.764581                1.562856  \n",
       "std             0.753773                1.315491  \n",
       "min             0.000000                0.000000  \n",
       "25%             2.300000                1.000000  \n",
       "50%             2.780000                1.000000  \n",
       "75%             3.270000                2.000000  \n",
       "max             5.400000                9.000000  "
      ]
     },
     "execution_count": 8,
     "metadata": {},
     "output_type": "execute_result"
    }
   ],
   "source": [
    "# Check dataframe description\n",
    "data.describe()"
   ]
  },
  {
   "cell_type": "markdown",
   "id": "a4da83b3",
   "metadata": {},
   "source": [
    "# 6. Data Cleaning"
   ]
  },
  {
   "cell_type": "markdown",
   "id": "b0222b4a",
   "metadata": {},
   "source": [
    "To use my data for medelling, I will have to employ data cleaning methods to make it ready and suitable. Methods to be employed are :\n",
    "\n",
    "Consistency\n",
    "Validity\n",
    "Completeness\n",
    "Collinearity"
   ]
  },
  {
   "cell_type": "markdown",
   "id": "d3157b44",
   "metadata": {},
   "source": [
    "## 6.1. Consistency\n",
    "- Checking to see if there are any duplicates both in rows and in columns."
   ]
  },
  {
   "cell_type": "code",
   "execution_count": 9,
   "id": "a71079db",
   "metadata": {},
   "outputs": [
    {
     "data": {
      "text/plain": [
       "0"
      ]
     },
     "execution_count": 9,
     "metadata": {},
     "output_type": "execute_result"
    }
   ],
   "source": [
    "#checking for duplicates\n",
    "data.duplicated().sum()"
   ]
  },
  {
   "cell_type": "markdown",
   "id": "f29c8b3c",
   "metadata": {},
   "source": [
    "## 6.2. Validity\n",
    "- Check to see if all the columns in the dataset are valid/useful for this analysis\n",
    "- Dropping any that isn't useful."
   ]
  },
  {
   "cell_type": "code",
   "execution_count": 10,
   "id": "27dad353",
   "metadata": {},
   "outputs": [],
   "source": [
    "# phone numbers are private information and they may not have a large impact on the model\n",
    "data = data.drop('phone number', axis=1)"
   ]
  },
  {
   "cell_type": "markdown",
   "id": "60ed1340",
   "metadata": {},
   "source": [
    "## 6.3. Completeness\n",
    "- Check to see if there are any missing/null values, and impute them."
   ]
  },
  {
   "cell_type": "code",
   "execution_count": 11,
   "id": "b9789af5",
   "metadata": {},
   "outputs": [
    {
     "data": {
      "text/plain": [
       "state                     0\n",
       "account length            0\n",
       "area code                 0\n",
       "international plan        0\n",
       "voice mail plan           0\n",
       "number vmail messages     0\n",
       "total day minutes         0\n",
       "total day calls           0\n",
       "total day charge          0\n",
       "total eve minutes         0\n",
       "total eve calls           0\n",
       "total eve charge          0\n",
       "total night minutes       0\n",
       "total night calls         0\n",
       "total night charge        0\n",
       "total intl minutes        0\n",
       "total intl calls          0\n",
       "total intl charge         0\n",
       "customer service calls    0\n",
       "churn                     0\n",
       "dtype: int64"
      ]
     },
     "execution_count": 11,
     "metadata": {},
     "output_type": "execute_result"
    }
   ],
   "source": [
    "# Identifying the Missing Data\n",
    "data.isnull().sum()"
   ]
  },
  {
   "cell_type": "code",
   "execution_count": 12,
   "id": "bcfd1ee1",
   "metadata": {},
   "outputs": [],
   "source": [
    "# replace whitespace in column names with _\n",
    "dwb_col = data.columns.str.replace('\\s+', '_') \n",
    "\n",
    "# change old column names to new column names without whitespace\n",
    "data.columns = dwb_col"
   ]
  },
  {
   "cell_type": "code",
   "execution_count": 13,
   "id": "99632e20",
   "metadata": {},
   "outputs": [
    {
     "data": {
      "text/plain": [
       "Index(['state', 'account_length', 'area_code', 'international_plan',\n",
       "       'voice_mail_plan', 'number_vmail_messages', 'total_day_minutes',\n",
       "       'total_day_calls', 'total_day_charge', 'total_eve_minutes',\n",
       "       'total_eve_calls', 'total_eve_charge', 'total_night_minutes',\n",
       "       'total_night_calls', 'total_night_charge', 'total_intl_minutes',\n",
       "       'total_intl_calls', 'total_intl_charge', 'customer_service_calls',\n",
       "       'churn'],\n",
       "      dtype='object')"
      ]
     },
     "execution_count": 13,
     "metadata": {},
     "output_type": "execute_result"
    }
   ],
   "source": [
    "# double check changes\n",
    "data.columns"
   ]
  },
  {
   "cell_type": "markdown",
   "id": "cc4d1fc1",
   "metadata": {},
   "source": [
    "Observation  \n",
    "-There are no duplicates nor missing values in our dataset.  \n",
    " \n"
   ]
  },
  {
   "cell_type": "code",
   "execution_count": 14,
   "id": "108d9a11",
   "metadata": {},
   "outputs": [
    {
     "data": {
      "text/plain": [
       "state                      object\n",
       "account_length              int64\n",
       "area_code                   int64\n",
       "international_plan         object\n",
       "voice_mail_plan            object\n",
       "number_vmail_messages       int64\n",
       "total_day_minutes         float64\n",
       "total_day_calls             int64\n",
       "total_day_charge          float64\n",
       "total_eve_minutes         float64\n",
       "total_eve_calls             int64\n",
       "total_eve_charge          float64\n",
       "total_night_minutes       float64\n",
       "total_night_calls           int64\n",
       "total_night_charge        float64\n",
       "total_intl_minutes        float64\n",
       "total_intl_calls            int64\n",
       "total_intl_charge         float64\n",
       "customer_service_calls      int64\n",
       "churn                        bool\n",
       "dtype: object"
      ]
     },
     "execution_count": 14,
     "metadata": {},
     "output_type": "execute_result"
    }
   ],
   "source": [
    "#checking the data types of the dataframe\n",
    "data.dtypes"
   ]
  },
  {
   "cell_type": "markdown",
   "id": "6b5c02fd",
   "metadata": {},
   "source": [
    "# 7. Exploratory Data Analysis (EDA)\n",
    "\n",
    "In trying to understand our data better, let's check for the distribution of the individual features in our dataset.\n",
    "Answer a few questions:  \n",
    "1.What is the distribution of Churn?\n",
    "2.What is the total percentage of churn?  \n",
    "3.How much a client is charged for all phone call categories (international, evening, night, and day)?  \n",
    "4.What are the charges for day calls?  \n",
    "5.What is the relationship between customer service calls and customer churn?  \n",
    "6.Find out what attributes have the highest correlation with churn  \n"
   ]
  },
  {
   "cell_type": "markdown",
   "id": "0cd4bf6c",
   "metadata": {},
   "source": [
    "## 7.1. Distribution of Churn"
   ]
  },
  {
   "cell_type": "code",
   "execution_count": 15,
   "id": "b04bfc9b",
   "metadata": {},
   "outputs": [
    {
     "data": {
      "text/plain": [
       "churn\n",
       "False    2850\n",
       "True      483\n",
       "dtype: int64"
      ]
     },
     "execution_count": 15,
     "metadata": {},
     "output_type": "execute_result"
    }
   ],
   "source": [
    "#inspect the dependent variable\n",
    "data.groupby('churn').size()"
   ]
  },
  {
   "cell_type": "code",
   "execution_count": 16,
   "id": "38a9a267",
   "metadata": {},
   "outputs": [
    {
     "data": {
      "text/plain": [
       "<AxesSubplot:xlabel='churn', ylabel='count'>"
      ]
     },
     "execution_count": 16,
     "metadata": {},
     "output_type": "execute_result"
    },
    {
     "data": {
      "image/png": "[encoded data removed]",
      "text/plain": [
       "<Figure size 432x288 with 1 Axes>"
      ]
     },
     "metadata": {
      "needs_background": "light"
     },
     "output_type": "display_data"
    }
   ],
   "source": [
    "#checking the distribution of the churn (target) variable using a box plot\n",
    "sns.countplot(x = \"churn\",data =data)"
   ]
  },
  {
   "cell_type": "markdown",
   "id": "2609af63",
   "metadata": {},
   "source": [
    "-There appears to be some class imbalance in our target variable. This could lead to the minority class, churned clients, not being properly represented in the model.  \n",
    "-Recall will be the performance measurement matrix we would use when training the model."
   ]
  },
  {
   "cell_type": "markdown",
   "id": "86d16a1f",
   "metadata": {},
   "source": [
    "## 7.2. Rate of Churn"
   ]
  },
  {
   "cell_type": "code",
   "execution_count": 17,
   "id": "0926cb90",
   "metadata": {},
   "outputs": [
    {
     "name": "stdout",
     "output_type": "stream",
     "text": [
      "Churn Rate: 14.49%\n"
     ]
    }
   ],
   "source": [
    "#calculate the percentage of churn\n",
    "churn_rate = round(sum(data.churn) / len(data.churn) * 100, 2)\n",
    "\n",
    "print('Churn Rate: {0}%'.format(churn_rate))"
   ]
  },
  {
   "cell_type": "markdown",
   "id": "d3967244",
   "metadata": {},
   "source": [
    "If this sample is a representative of the population of SyriaTel clients, churn is down to 14.5%, 6.5% below the average churn for most telecommunication companies."
   ]
  },
  {
   "cell_type": "markdown",
   "id": "cbe22ab4",
   "metadata": {},
   "source": [
    "## 7.3. Client charges for all phone call categories (international, evening, night, and day)"
   ]
  },
  {
   "cell_type": "code",
   "execution_count": 18,
   "id": "85ff1a81",
   "metadata": {},
   "outputs": [
    {
     "data": {
      "text/plain": [
       "0       75.56\n",
       "1       59.24\n",
       "2       62.29\n",
       "3       66.80\n",
       "4       52.09\n",
       "        ...  \n",
       "3328    60.10\n",
       "3329    63.53\n",
       "3330    67.74\n",
       "3331    57.53\n",
       "3332    77.01\n",
       "Name: total_spend, Length: 3333, dtype: float64"
      ]
     },
     "execution_count": 18,
     "metadata": {},
     "output_type": "execute_result"
    }
   ],
   "source": [
    "# create a column for total call spend\n",
    "data['total_spend'] = data.total_day_charge + data.total_eve_charge + data.total_night_charge + data.total_intl_charge\n",
    "data['total_spend']"
   ]
  },
  {
   "cell_type": "code",
   "execution_count": 19,
   "id": "91adef4e",
   "metadata": {},
   "outputs": [
    {
     "data": {
      "text/plain": [
       "<matplotlib.collections.PathCollection at 0x13c7888e370>"
      ]
     },
     "execution_count": 19,
     "metadata": {},
     "output_type": "execute_result"
    },
    {
     "data": {
      "image/png": "[encoded data removed]",
      "text/plain": [
       "<Figure size 432x288 with 1 Axes>"
      ]
     },
     "metadata": {
      "needs_background": "light"
     },
     "output_type": "display_data"
    }
   ],
   "source": [
    "# scatter plot for total spend against churn\n",
    "plt.scatter(x = data['churn'], y = data['total_spend'])"
   ]
  },
  {
   "cell_type": "markdown",
   "id": "d4fbd6ac",
   "metadata": {},
   "source": [
    "It does look like the people spending the most have a higher churn, but I will need a better visual to really know."
   ]
  },
  {
   "cell_type": "code",
   "execution_count": 20,
   "id": "34d3ef79",
   "metadata": {},
   "outputs": [
    {
     "data": {
      "image/png": "[encoded data removed]",
      "text/plain": [
       "<Figure size 432x288 with 1 Axes>"
      ]
     },
     "metadata": {
      "needs_background": "light"
     },
     "output_type": "display_data"
    }
   ],
   "source": [
    "#distribution of total spend \n",
    "sns.distplot(data['total_spend'], fit=norm, kde=False)\n",
    "plt.show()"
   ]
  },
  {
   "cell_type": "markdown",
   "id": "34bf1bf3",
   "metadata": {},
   "source": [
    "The curve is a normal distribution and alot of people spend $50 - $70"
   ]
  },
  {
   "cell_type": "markdown",
   "id": "45106e37",
   "metadata": {},
   "source": [
    "## 7.4. Determine the relationship between customer churn behavior and international plan."
   ]
  },
  {
   "cell_type": "code",
   "execution_count": 21,
   "id": "a84bdc30",
   "metadata": {},
   "outputs": [
    {
     "name": "stdout",
     "output_type": "stream",
     "text": [
      "international_plan  churn\n",
      "no                  False    0.89\n",
      "                    True     0.11\n",
      "yes                 False    0.58\n",
      "                    True     0.42\n",
      "Name: churn, dtype: float64\n"
     ]
    },
    {
     "data": {
      "image/png": "[encoded data removed]",
      "text/plain": [
       "<Figure size 432x288 with 1 Axes>"
      ]
     },
     "metadata": {
      "needs_background": "light"
     },
     "output_type": "display_data"
    }
   ],
   "source": [
    "sns.countplot(x='international_plan', hue='churn', data=data);\n",
    "print(round(data.groupby('international_plan')['churn'].value_counts(normalize=True),2))"
   ]
  },
  {
   "cell_type": "markdown",
   "id": "7a1e6d8f",
   "metadata": {},
   "source": [
    "Customers who dont have an international plan tend to stay while those that have international plan tend to churn"
   ]
  },
  {
   "cell_type": "markdown",
   "id": "f87f1e19",
   "metadata": {},
   "source": [
    "## 7.4. Relationships"
   ]
  },
  {
   "cell_type": "code",
   "execution_count": 22,
   "id": "a27fcb92",
   "metadata": {},
   "outputs": [
    {
     "data": {
      "text/plain": [
       "churn                     1.000000\n",
       "total_spend               0.231549\n",
       "customer_service_calls    0.208750\n",
       "total_day_minutes         0.205151\n",
       "total_day_charge          0.205151\n",
       "total_eve_minutes         0.092796\n",
       "total_eve_charge          0.092786\n",
       "total_intl_charge         0.068259\n",
       "total_intl_minutes        0.068239\n",
       "total_night_charge        0.035496\n",
       "total_night_minutes       0.035493\n",
       "total_day_calls           0.018459\n",
       "account_length            0.016541\n",
       "total_eve_calls           0.009233\n",
       "area_code                 0.006174\n",
       "total_night_calls         0.006141\n",
       "total_intl_calls         -0.052844\n",
       "number_vmail_messages    -0.089728\n",
       "Name: churn, dtype: float64"
      ]
     },
     "execution_count": 22,
     "metadata": {},
     "output_type": "execute_result"
    }
   ],
   "source": [
    "# find out what attributes have the highest correlation with churn\n",
    "corr_matrix = data.corr()\n",
    "corr_matrix['churn'].sort_values(ascending=False)"
   ]
  },
  {
   "cell_type": "code",
   "execution_count": 23,
   "id": "7ee5e4eb",
   "metadata": {},
   "outputs": [
    {
     "data": {
      "image/png": "[encoded data removed]",
      "text/plain": [
       "<Figure size 720x504 with 2 Axes>"
      ]
     },
     "metadata": {
      "needs_background": "light"
     },
     "output_type": "display_data"
    }
   ],
   "source": [
    "#correlation heatmap for visualization\n",
    "plt.figure(figsize=(10,7))\n",
    "mask = np.triu(np.ones_like(data.corr(), dtype=bool))\n",
    "sns.heatmap(data.corr(),annot=True,cmap=\"BrBG\",fmt=\".2f\", mask=mask);\n",
    "plt.title('Correlation between the columns')\n",
    "plt.show()"
   ]
  },
  {
   "cell_type": "markdown",
   "id": "922a0cfa",
   "metadata": {},
   "source": [
    "We see a strong correlation in some columns, such as total_spend ,customer_service_calls,total_day_minutes,total_day_charge         "
   ]
  },
  {
   "cell_type": "markdown",
   "id": "233c1906",
   "metadata": {},
   "source": [
    "## 7.5. Charges for day calls"
   ]
  },
  {
   "cell_type": "code",
   "execution_count": 24,
   "id": "6dcdc7fa",
   "metadata": {},
   "outputs": [
    {
     "data": {
      "text/plain": [
       "<seaborn.axisgrid.PairGrid at 0x13c788d5520>"
      ]
     },
     "execution_count": 24,
     "metadata": {},
     "output_type": "execute_result"
    },
    {
     "data": {
      "image/png": "[encoded data removed]",
      "text/plain": [
       "<Figure size 540x540 with 12 Axes>"
      ]
     },
     "metadata": {
      "needs_background": "light"
     },
     "output_type": "display_data"
    }
   ],
   "source": [
    "sns.pairplot(data.loc[:,['total_day_minutes','total_day_calls','total_day_charge']])"
   ]
  },
  {
   "cell_type": "markdown",
   "id": "fc81f28d",
   "metadata": {},
   "source": [
    "Strong positive correlation between Day charge and Day Mins."
   ]
  },
  {
   "cell_type": "markdown",
   "id": "b63b186b",
   "metadata": {},
   "source": [
    "## 7.6.How customer service affects churn"
   ]
  },
  {
   "cell_type": "code",
   "execution_count": 25,
   "id": "ed68b91a",
   "metadata": {},
   "outputs": [
    {
     "data": {
      "text/html": [
       "<div>\n",
       "<style scoped>\n",
       "    .dataframe tbody tr th:only-of-type {\n",
       "        vertical-align: middle;\n",
       "    }\n",
       "\n",
       "    .dataframe tbody tr th {\n",
       "        vertical-align: top;\n",
       "    }\n",
       "\n",
       "    .dataframe thead th {\n",
       "        text-align: right;\n",
       "    }\n",
       "</style>\n",
       "<table border=\"1\" class=\"dataframe\">\n",
       "  <thead>\n",
       "    <tr style=\"text-align: right;\">\n",
       "      <th></th>\n",
       "      <th>state</th>\n",
       "      <th>account_length</th>\n",
       "      <th>area_code</th>\n",
       "      <th>international_plan</th>\n",
       "      <th>voice_mail_plan</th>\n",
       "      <th>number_vmail_messages</th>\n",
       "      <th>total_day_minutes</th>\n",
       "      <th>total_day_calls</th>\n",
       "      <th>total_day_charge</th>\n",
       "      <th>total_eve_minutes</th>\n",
       "      <th>total_eve_calls</th>\n",
       "      <th>total_eve_charge</th>\n",
       "      <th>total_night_minutes</th>\n",
       "      <th>total_night_calls</th>\n",
       "      <th>total_night_charge</th>\n",
       "      <th>total_intl_minutes</th>\n",
       "      <th>total_intl_calls</th>\n",
       "      <th>total_intl_charge</th>\n",
       "      <th>customer_service_calls</th>\n",
       "      <th>churn</th>\n",
       "      <th>total_spend</th>\n",
       "    </tr>\n",
       "  </thead>\n",
       "  <tbody>\n",
       "    <tr>\n",
       "      <th>10</th>\n",
       "      <td>IN</td>\n",
       "      <td>65</td>\n",
       "      <td>415</td>\n",
       "      <td>no</td>\n",
       "      <td>no</td>\n",
       "      <td>0</td>\n",
       "      <td>129.1</td>\n",
       "      <td>137</td>\n",
       "      <td>21.95</td>\n",
       "      <td>228.5</td>\n",
       "      <td>83</td>\n",
       "      <td>19.42</td>\n",
       "      <td>208.8</td>\n",
       "      <td>111</td>\n",
       "      <td>9.4</td>\n",
       "      <td>12.7</td>\n",
       "      <td>6</td>\n",
       "      <td>3.43</td>\n",
       "      <td>4</td>\n",
       "      <td>True</td>\n",
       "      <td>54.2</td>\n",
       "    </tr>\n",
       "  </tbody>\n",
       "</table>\n",
       "</div>"
      ],
      "text/plain": [
       "   state  account_length  area_code international_plan voice_mail_plan  \\\n",
       "10    IN              65        415                 no              no   \n",
       "\n",
       "    number_vmail_messages  total_day_minutes  total_day_calls  \\\n",
       "10                      0              129.1              137   \n",
       "\n",
       "    total_day_charge  total_eve_minutes  total_eve_calls  total_eve_charge  \\\n",
       "10             21.95              228.5               83             19.42   \n",
       "\n",
       "    total_night_minutes  total_night_calls  total_night_charge  \\\n",
       "10                208.8                111                 9.4   \n",
       "\n",
       "    total_intl_minutes  total_intl_calls  total_intl_charge  \\\n",
       "10                12.7                 6               3.43   \n",
       "\n",
       "    customer_service_calls  churn  total_spend  \n",
       "10                       4   True         54.2  "
      ]
     },
     "execution_count": 25,
     "metadata": {},
     "output_type": "execute_result"
    }
   ],
   "source": [
    "# create a new data frame with only the clients who churned\n",
    "data_churned = data[data.churn != False]\n",
    "data_churned.head(1)"
   ]
  },
  {
   "cell_type": "code",
   "execution_count": 26,
   "id": "2fb33336",
   "metadata": {},
   "outputs": [],
   "source": [
    "# create a new column for clients who did or did not call customer service on both dataframes\n",
    "data_churned['called_customer_service'] = data_churned['customer_service_calls'] >=1\n",
    "data['called_customer_service'] = data['customer_service_calls'] >=1"
   ]
  },
  {
   "cell_type": "code",
   "execution_count": 27,
   "id": "d8ae9acf",
   "metadata": {},
   "outputs": [
    {
     "data": {
      "text/html": [
       "<div>\n",
       "<style scoped>\n",
       "    .dataframe tbody tr th:only-of-type {\n",
       "        vertical-align: middle;\n",
       "    }\n",
       "\n",
       "    .dataframe tbody tr th {\n",
       "        vertical-align: top;\n",
       "    }\n",
       "\n",
       "    .dataframe thead th {\n",
       "        text-align: right;\n",
       "    }\n",
       "</style>\n",
       "<table border=\"1\" class=\"dataframe\">\n",
       "  <thead>\n",
       "    <tr style=\"text-align: right;\">\n",
       "      <th></th>\n",
       "      <th>state</th>\n",
       "      <th>account_length</th>\n",
       "      <th>area_code</th>\n",
       "      <th>international_plan</th>\n",
       "      <th>voice_mail_plan</th>\n",
       "      <th>number_vmail_messages</th>\n",
       "      <th>total_day_minutes</th>\n",
       "      <th>total_day_calls</th>\n",
       "      <th>total_day_charge</th>\n",
       "      <th>total_eve_minutes</th>\n",
       "      <th>total_eve_calls</th>\n",
       "      <th>total_eve_charge</th>\n",
       "      <th>total_night_minutes</th>\n",
       "      <th>total_night_calls</th>\n",
       "      <th>total_night_charge</th>\n",
       "      <th>total_intl_minutes</th>\n",
       "      <th>total_intl_calls</th>\n",
       "      <th>total_intl_charge</th>\n",
       "      <th>customer_service_calls</th>\n",
       "      <th>churn</th>\n",
       "      <th>total_spend</th>\n",
       "      <th>called_customer_service</th>\n",
       "    </tr>\n",
       "  </thead>\n",
       "  <tbody>\n",
       "    <tr>\n",
       "      <th>10</th>\n",
       "      <td>IN</td>\n",
       "      <td>65</td>\n",
       "      <td>415</td>\n",
       "      <td>no</td>\n",
       "      <td>no</td>\n",
       "      <td>0</td>\n",
       "      <td>129.1</td>\n",
       "      <td>137</td>\n",
       "      <td>21.95</td>\n",
       "      <td>228.5</td>\n",
       "      <td>83</td>\n",
       "      <td>19.42</td>\n",
       "      <td>208.8</td>\n",
       "      <td>111</td>\n",
       "      <td>9.40</td>\n",
       "      <td>12.7</td>\n",
       "      <td>6</td>\n",
       "      <td>3.43</td>\n",
       "      <td>4</td>\n",
       "      <td>True</td>\n",
       "      <td>54.20</td>\n",
       "      <td>True</td>\n",
       "    </tr>\n",
       "    <tr>\n",
       "      <th>15</th>\n",
       "      <td>NY</td>\n",
       "      <td>161</td>\n",
       "      <td>415</td>\n",
       "      <td>no</td>\n",
       "      <td>no</td>\n",
       "      <td>0</td>\n",
       "      <td>332.9</td>\n",
       "      <td>67</td>\n",
       "      <td>56.59</td>\n",
       "      <td>317.8</td>\n",
       "      <td>97</td>\n",
       "      <td>27.01</td>\n",
       "      <td>160.6</td>\n",
       "      <td>128</td>\n",
       "      <td>7.23</td>\n",
       "      <td>5.4</td>\n",
       "      <td>9</td>\n",
       "      <td>1.46</td>\n",
       "      <td>4</td>\n",
       "      <td>True</td>\n",
       "      <td>92.29</td>\n",
       "      <td>True</td>\n",
       "    </tr>\n",
       "    <tr>\n",
       "      <th>21</th>\n",
       "      <td>CO</td>\n",
       "      <td>77</td>\n",
       "      <td>408</td>\n",
       "      <td>no</td>\n",
       "      <td>no</td>\n",
       "      <td>0</td>\n",
       "      <td>62.4</td>\n",
       "      <td>89</td>\n",
       "      <td>10.61</td>\n",
       "      <td>169.9</td>\n",
       "      <td>121</td>\n",
       "      <td>14.44</td>\n",
       "      <td>209.6</td>\n",
       "      <td>64</td>\n",
       "      <td>9.43</td>\n",
       "      <td>5.7</td>\n",
       "      <td>6</td>\n",
       "      <td>1.54</td>\n",
       "      <td>5</td>\n",
       "      <td>True</td>\n",
       "      <td>36.02</td>\n",
       "      <td>True</td>\n",
       "    </tr>\n",
       "  </tbody>\n",
       "</table>\n",
       "</div>"
      ],
      "text/plain": [
       "   state  account_length  area_code international_plan voice_mail_plan  \\\n",
       "10    IN              65        415                 no              no   \n",
       "15    NY             161        415                 no              no   \n",
       "21    CO              77        408                 no              no   \n",
       "\n",
       "    number_vmail_messages  total_day_minutes  total_day_calls  \\\n",
       "10                      0              129.1              137   \n",
       "15                      0              332.9               67   \n",
       "21                      0               62.4               89   \n",
       "\n",
       "    total_day_charge  total_eve_minutes  total_eve_calls  total_eve_charge  \\\n",
       "10             21.95              228.5               83             19.42   \n",
       "15             56.59              317.8               97             27.01   \n",
       "21             10.61              169.9              121             14.44   \n",
       "\n",
       "    total_night_minutes  total_night_calls  total_night_charge  \\\n",
       "10                208.8                111                9.40   \n",
       "15                160.6                128                7.23   \n",
       "21                209.6                 64                9.43   \n",
       "\n",
       "    total_intl_minutes  total_intl_calls  total_intl_charge  \\\n",
       "10                12.7                 6               3.43   \n",
       "15                 5.4                 9               1.46   \n",
       "21                 5.7                 6               1.54   \n",
       "\n",
       "    customer_service_calls  churn  total_spend  called_customer_service  \n",
       "10                       4   True        54.20                     True  \n",
       "15                       4   True        92.29                     True  \n",
       "21                       5   True        36.02                     True  "
      ]
     },
     "metadata": {},
     "output_type": "display_data"
    },
    {
     "data": {
      "text/html": [
       "<div>\n",
       "<style scoped>\n",
       "    .dataframe tbody tr th:only-of-type {\n",
       "        vertical-align: middle;\n",
       "    }\n",
       "\n",
       "    .dataframe tbody tr th {\n",
       "        vertical-align: top;\n",
       "    }\n",
       "\n",
       "    .dataframe thead th {\n",
       "        text-align: right;\n",
       "    }\n",
       "</style>\n",
       "<table border=\"1\" class=\"dataframe\">\n",
       "  <thead>\n",
       "    <tr style=\"text-align: right;\">\n",
       "      <th></th>\n",
       "      <th>state</th>\n",
       "      <th>account_length</th>\n",
       "      <th>area_code</th>\n",
       "      <th>international_plan</th>\n",
       "      <th>voice_mail_plan</th>\n",
       "      <th>number_vmail_messages</th>\n",
       "      <th>total_day_minutes</th>\n",
       "      <th>total_day_calls</th>\n",
       "      <th>total_day_charge</th>\n",
       "      <th>total_eve_minutes</th>\n",
       "      <th>total_eve_calls</th>\n",
       "      <th>total_eve_charge</th>\n",
       "      <th>total_night_minutes</th>\n",
       "      <th>total_night_calls</th>\n",
       "      <th>total_night_charge</th>\n",
       "      <th>total_intl_minutes</th>\n",
       "      <th>total_intl_calls</th>\n",
       "      <th>total_intl_charge</th>\n",
       "      <th>customer_service_calls</th>\n",
       "      <th>churn</th>\n",
       "      <th>total_spend</th>\n",
       "      <th>called_customer_service</th>\n",
       "    </tr>\n",
       "  </thead>\n",
       "  <tbody>\n",
       "    <tr>\n",
       "      <th>0</th>\n",
       "      <td>KS</td>\n",
       "      <td>128</td>\n",
       "      <td>415</td>\n",
       "      <td>no</td>\n",
       "      <td>yes</td>\n",
       "      <td>25</td>\n",
       "      <td>265.1</td>\n",
       "      <td>110</td>\n",
       "      <td>45.07</td>\n",
       "      <td>197.4</td>\n",
       "      <td>99</td>\n",
       "      <td>16.78</td>\n",
       "      <td>244.7</td>\n",
       "      <td>91</td>\n",
       "      <td>11.01</td>\n",
       "      <td>10.0</td>\n",
       "      <td>3</td>\n",
       "      <td>2.70</td>\n",
       "      <td>1</td>\n",
       "      <td>False</td>\n",
       "      <td>75.56</td>\n",
       "      <td>True</td>\n",
       "    </tr>\n",
       "    <tr>\n",
       "      <th>1</th>\n",
       "      <td>OH</td>\n",
       "      <td>107</td>\n",
       "      <td>415</td>\n",
       "      <td>no</td>\n",
       "      <td>yes</td>\n",
       "      <td>26</td>\n",
       "      <td>161.6</td>\n",
       "      <td>123</td>\n",
       "      <td>27.47</td>\n",
       "      <td>195.5</td>\n",
       "      <td>103</td>\n",
       "      <td>16.62</td>\n",
       "      <td>254.4</td>\n",
       "      <td>103</td>\n",
       "      <td>11.45</td>\n",
       "      <td>13.7</td>\n",
       "      <td>3</td>\n",
       "      <td>3.70</td>\n",
       "      <td>1</td>\n",
       "      <td>False</td>\n",
       "      <td>59.24</td>\n",
       "      <td>True</td>\n",
       "    </tr>\n",
       "    <tr>\n",
       "      <th>2</th>\n",
       "      <td>NJ</td>\n",
       "      <td>137</td>\n",
       "      <td>415</td>\n",
       "      <td>no</td>\n",
       "      <td>no</td>\n",
       "      <td>0</td>\n",
       "      <td>243.4</td>\n",
       "      <td>114</td>\n",
       "      <td>41.38</td>\n",
       "      <td>121.2</td>\n",
       "      <td>110</td>\n",
       "      <td>10.30</td>\n",
       "      <td>162.6</td>\n",
       "      <td>104</td>\n",
       "      <td>7.32</td>\n",
       "      <td>12.2</td>\n",
       "      <td>5</td>\n",
       "      <td>3.29</td>\n",
       "      <td>0</td>\n",
       "      <td>False</td>\n",
       "      <td>62.29</td>\n",
       "      <td>False</td>\n",
       "    </tr>\n",
       "  </tbody>\n",
       "</table>\n",
       "</div>"
      ],
      "text/plain": [
       "  state  account_length  area_code international_plan voice_mail_plan  \\\n",
       "0    KS             128        415                 no             yes   \n",
       "1    OH             107        415                 no             yes   \n",
       "2    NJ             137        415                 no              no   \n",
       "\n",
       "   number_vmail_messages  total_day_minutes  total_day_calls  \\\n",
       "0                     25              265.1              110   \n",
       "1                     26              161.6              123   \n",
       "2                      0              243.4              114   \n",
       "\n",
       "   total_day_charge  total_eve_minutes  total_eve_calls  total_eve_charge  \\\n",
       "0             45.07              197.4               99             16.78   \n",
       "1             27.47              195.5              103             16.62   \n",
       "2             41.38              121.2              110             10.30   \n",
       "\n",
       "   total_night_minutes  total_night_calls  total_night_charge  \\\n",
       "0                244.7                 91               11.01   \n",
       "1                254.4                103               11.45   \n",
       "2                162.6                104                7.32   \n",
       "\n",
       "   total_intl_minutes  total_intl_calls  total_intl_charge  \\\n",
       "0                10.0                 3               2.70   \n",
       "1                13.7                 3               3.70   \n",
       "2                12.2                 5               3.29   \n",
       "\n",
       "   customer_service_calls  churn  total_spend  called_customer_service  \n",
       "0                       1  False        75.56                     True  \n",
       "1                       1  False        59.24                     True  \n",
       "2                       0  False        62.29                    False  "
      ]
     },
     "metadata": {},
     "output_type": "display_data"
    }
   ],
   "source": [
    "display(data_churned.head(3))\n",
    "display(data.head(3))"
   ]
  },
  {
   "cell_type": "code",
   "execution_count": 28,
   "id": "3c03e4c9",
   "metadata": {},
   "outputs": [
    {
     "data": {
      "text/plain": [
       "0.8095238095238095"
      ]
     },
     "execution_count": 28,
     "metadata": {},
     "output_type": "execute_result"
    }
   ],
   "source": [
    "sum(data_churned['called_customer_service'] == True) / len(data_churned['called_customer_service'])"
   ]
  },
  {
   "cell_type": "code",
   "execution_count": 29,
   "id": "9b34da9c",
   "metadata": {},
   "outputs": [
    {
     "data": {
      "text/plain": [
       "0.7908790879087909"
      ]
     },
     "execution_count": 29,
     "metadata": {},
     "output_type": "execute_result"
    }
   ],
   "source": [
    "sum(data['called_customer_service'] == True) / len(data['called_customer_service'])"
   ]
  },
  {
   "cell_type": "markdown",
   "id": "1dc14518",
   "metadata": {},
   "source": [
    "79% of all clients have made customer service calls and 81% of all churned clients made one call or more. These numbers are fairly proportionate, across all clients and churned clients. "
   ]
  },
  {
   "cell_type": "markdown",
   "id": "e08b558f",
   "metadata": {},
   "source": [
    "# # 7.7.Customer churn and Area code"
   ]
  },
  {
   "cell_type": "code",
   "execution_count": 30,
   "id": "d161f0a5",
   "metadata": {},
   "outputs": [
    {
     "data": {
      "text/plain": [
       "(array([0, 1, 2]), [Text(0, 0, '408'), Text(1, 0, '415'), Text(2, 0, '510')])"
      ]
     },
     "execution_count": 30,
     "metadata": {},
     "output_type": "execute_result"
    },
    {
     "data": {
      "image/png": "[encoded data removed]",
      "text/plain": [
       "<Figure size 720x576 with 1 Axes>"
      ]
     },
     "metadata": {
      "needs_background": "light"
     },
     "output_type": "display_data"
    }
   ],
   "source": [
    "# Plot Customer Churn by Area Code without normalization\n",
    "data.groupby([\"area_code\", \"churn\"]).size().unstack().plot(kind='bar', title=\"Customer Churn by Area Code\", figsize=(10,8))\n",
    "plt.xticks(rotation=0)"
   ]
  },
  {
   "cell_type": "markdown",
   "id": "b69231c0",
   "metadata": {},
   "source": [
    "Almost half of the customers have  area code 415."
   ]
  },
  {
   "cell_type": "markdown",
   "id": "c369185b",
   "metadata": {},
   "source": [
    "# 8. Pre-Processing Data\n",
    "-Here I will drop some columns which may not be relevant for my modelling  \n",
    "-Check for the distribution of features(variables)\n",
    "-I will create variables for numerical columns and categorical columns\n",
    "-Create dummmies for categotical columns"
   ]
  },
  {
   "cell_type": "code",
   "execution_count": 31,
   "id": "267fe0a5",
   "metadata": {},
   "outputs": [
    {
     "data": {
      "text/plain": [
       "state                       object\n",
       "account_length               int64\n",
       "area_code                    int64\n",
       "international_plan          object\n",
       "voice_mail_plan             object\n",
       "number_vmail_messages        int64\n",
       "total_day_minutes          float64\n",
       "total_day_calls              int64\n",
       "total_day_charge           float64\n",
       "total_eve_minutes          float64\n",
       "total_eve_calls              int64\n",
       "total_eve_charge           float64\n",
       "total_night_minutes        float64\n",
       "total_night_calls            int64\n",
       "total_night_charge         float64\n",
       "total_intl_minutes         float64\n",
       "total_intl_calls             int64\n",
       "total_intl_charge          float64\n",
       "customer_service_calls       int64\n",
       "churn                         bool\n",
       "total_spend                float64\n",
       "called_customer_service       bool\n",
       "dtype: object"
      ]
     },
     "execution_count": 31,
     "metadata": {},
     "output_type": "execute_result"
    }
   ],
   "source": [
    "data.dtypes"
   ]
  },
  {
   "cell_type": "markdown",
   "id": "09eab2bd",
   "metadata": {},
   "source": [
    "-A few of the columns seem to have a dtype object."
   ]
  },
  {
   "cell_type": "code",
   "execution_count": 32,
   "id": "7272fe5f",
   "metadata": {},
   "outputs": [
    {
     "data": {
      "image/png": "[encoded data removed]",
      "text/plain": [
       "<Figure size 2160x1440 with 20 Axes>"
      ]
     },
     "metadata": {
      "needs_background": "light"
     },
     "output_type": "display_data"
    }
   ],
   "source": [
    "#Checking for Distribution of Data in the dataset\n",
    "data.hist(figsize=(30,20), color = 'green')\n",
    "plt.show();"
   ]
  },
  {
   "cell_type": "code",
   "execution_count": 33,
   "id": "14b8034f",
   "metadata": {},
   "outputs": [],
   "source": [
    "data.drop(['state','area_code','account_length'],axis = 1,inplace = True)"
   ]
  },
  {
   "cell_type": "code",
   "execution_count": 34,
   "id": "c1d566ef",
   "metadata": {},
   "outputs": [
    {
     "data": {
      "text/html": [
       "<div>\n",
       "<style scoped>\n",
       "    .dataframe tbody tr th:only-of-type {\n",
       "        vertical-align: middle;\n",
       "    }\n",
       "\n",
       "    .dataframe tbody tr th {\n",
       "        vertical-align: top;\n",
       "    }\n",
       "\n",
       "    .dataframe thead th {\n",
       "        text-align: right;\n",
       "    }\n",
       "</style>\n",
       "<table border=\"1\" class=\"dataframe\">\n",
       "  <thead>\n",
       "    <tr style=\"text-align: right;\">\n",
       "      <th></th>\n",
       "      <th>number_vmail_messages</th>\n",
       "      <th>total_day_minutes</th>\n",
       "      <th>total_day_calls</th>\n",
       "      <th>total_day_charge</th>\n",
       "      <th>total_eve_minutes</th>\n",
       "      <th>total_eve_calls</th>\n",
       "      <th>total_eve_charge</th>\n",
       "      <th>total_night_minutes</th>\n",
       "      <th>total_night_calls</th>\n",
       "      <th>total_night_charge</th>\n",
       "      <th>total_intl_minutes</th>\n",
       "      <th>total_intl_calls</th>\n",
       "      <th>total_intl_charge</th>\n",
       "      <th>customer_service_calls</th>\n",
       "      <th>total_spend</th>\n",
       "    </tr>\n",
       "  </thead>\n",
       "  <tbody>\n",
       "    <tr>\n",
       "      <th>0</th>\n",
       "      <td>25</td>\n",
       "      <td>265.1</td>\n",
       "      <td>110</td>\n",
       "      <td>45.07</td>\n",
       "      <td>197.4</td>\n",
       "      <td>99</td>\n",
       "      <td>16.78</td>\n",
       "      <td>244.7</td>\n",
       "      <td>91</td>\n",
       "      <td>11.01</td>\n",
       "      <td>10.0</td>\n",
       "      <td>3</td>\n",
       "      <td>2.7</td>\n",
       "      <td>1</td>\n",
       "      <td>75.56</td>\n",
       "    </tr>\n",
       "    <tr>\n",
       "      <th>1</th>\n",
       "      <td>26</td>\n",
       "      <td>161.6</td>\n",
       "      <td>123</td>\n",
       "      <td>27.47</td>\n",
       "      <td>195.5</td>\n",
       "      <td>103</td>\n",
       "      <td>16.62</td>\n",
       "      <td>254.4</td>\n",
       "      <td>103</td>\n",
       "      <td>11.45</td>\n",
       "      <td>13.7</td>\n",
       "      <td>3</td>\n",
       "      <td>3.7</td>\n",
       "      <td>1</td>\n",
       "      <td>59.24</td>\n",
       "    </tr>\n",
       "  </tbody>\n",
       "</table>\n",
       "</div>"
      ],
      "text/plain": [
       "   number_vmail_messages  total_day_minutes  total_day_calls  \\\n",
       "0                     25              265.1              110   \n",
       "1                     26              161.6              123   \n",
       "\n",
       "   total_day_charge  total_eve_minutes  total_eve_calls  total_eve_charge  \\\n",
       "0             45.07              197.4               99             16.78   \n",
       "1             27.47              195.5              103             16.62   \n",
       "\n",
       "   total_night_minutes  total_night_calls  total_night_charge  \\\n",
       "0                244.7                 91               11.01   \n",
       "1                254.4                103               11.45   \n",
       "\n",
       "   total_intl_minutes  total_intl_calls  total_intl_charge  \\\n",
       "0                10.0                 3                2.7   \n",
       "1                13.7                 3                3.7   \n",
       "\n",
       "   customer_service_calls  total_spend  \n",
       "0                       1        75.56  \n",
       "1                       1        59.24  "
      ]
     },
     "execution_count": 34,
     "metadata": {},
     "output_type": "execute_result"
    }
   ],
   "source": [
    "#creating a variable to store numerical columns\n",
    "numerical_features = data.select_dtypes(include=[\"number\"])\n",
    "numerical_features.head(2)"
   ]
  },
  {
   "cell_type": "code",
   "execution_count": 35,
   "id": "bf3fa7ff",
   "metadata": {},
   "outputs": [
    {
     "data": {
      "text/html": [
       "<div>\n",
       "<style scoped>\n",
       "    .dataframe tbody tr th:only-of-type {\n",
       "        vertical-align: middle;\n",
       "    }\n",
       "\n",
       "    .dataframe tbody tr th {\n",
       "        vertical-align: top;\n",
       "    }\n",
       "\n",
       "    .dataframe thead th {\n",
       "        text-align: right;\n",
       "    }\n",
       "</style>\n",
       "<table border=\"1\" class=\"dataframe\">\n",
       "  <thead>\n",
       "    <tr style=\"text-align: right;\">\n",
       "      <th></th>\n",
       "      <th>international_plan</th>\n",
       "      <th>voice_mail_plan</th>\n",
       "    </tr>\n",
       "  </thead>\n",
       "  <tbody>\n",
       "    <tr>\n",
       "      <th>0</th>\n",
       "      <td>no</td>\n",
       "      <td>yes</td>\n",
       "    </tr>\n",
       "    <tr>\n",
       "      <th>1</th>\n",
       "      <td>no</td>\n",
       "      <td>yes</td>\n",
       "    </tr>\n",
       "    <tr>\n",
       "      <th>2</th>\n",
       "      <td>no</td>\n",
       "      <td>no</td>\n",
       "    </tr>\n",
       "  </tbody>\n",
       "</table>\n",
       "</div>"
      ],
      "text/plain": [
       "  international_plan voice_mail_plan\n",
       "0                 no             yes\n",
       "1                 no             yes\n",
       "2                 no              no"
      ]
     },
     "execution_count": 35,
     "metadata": {},
     "output_type": "execute_result"
    }
   ],
   "source": [
    "#creating a variable to store categorical columns\n",
    "categorical_features = data.select_dtypes(include=[\"object\"])\n",
    "categorical_features.head(3)"
   ]
  },
  {
   "cell_type": "code",
   "execution_count": 36,
   "id": "f517830d",
   "metadata": {},
   "outputs": [
    {
     "name": "stdout",
     "output_type": "stream",
     "text": [
      "1 : Discrete variables\n",
      "['customer_service_calls']\n"
     ]
    }
   ],
   "source": [
    "#Getting discrete features from the general numeric features with a threshold of 20 unique observations\n",
    "discrete_features = [feature for feature in numerical_features if len(numerical_features[feature].unique()) < 20]\n",
    "print(len(discrete_features), \": Discrete variables\")\n",
    "print(discrete_features)"
   ]
  },
  {
   "cell_type": "code",
   "execution_count": 37,
   "id": "76b9463d",
   "metadata": {},
   "outputs": [
    {
     "name": "stdout",
     "output_type": "stream",
     "text": [
      "14 : Continuous variables\n",
      "['number_vmail_messages', 'total_day_minutes', 'total_day_calls', 'total_day_charge', 'total_eve_minutes', 'total_eve_calls', 'total_eve_charge', 'total_night_minutes', 'total_night_calls', 'total_night_charge', 'total_intl_minutes', 'total_intl_calls', 'total_intl_charge', 'total_spend']\n"
     ]
    }
   ],
   "source": [
    "continous_features = [feature for feature in numerical_features if feature not in discrete_features]\n",
    "print(len(continous_features), \": Continuous variables\")\n",
    "print(continous_features)"
   ]
  },
  {
   "cell_type": "markdown",
   "id": "11334375",
   "metadata": {},
   "source": [
    "# # 8.1.Checking for outliers in the continuous"
   ]
  },
  {
   "cell_type": "code",
   "execution_count": 38,
   "id": "f36205cc",
   "metadata": {},
   "outputs": [
    {
     "data": {
      "image/png": "[encoded data removed]",
      "text/plain": [
       "<Figure size 1080x1440 with 14 Axes>"
      ]
     },
     "metadata": {
      "needs_background": "light"
     },
     "output_type": "display_data"
    }
   ],
   "source": [
    "#Plot outliers from all the continuous variables\n",
    "n_rows = 5\n",
    "n_columns = 3\n",
    "\n",
    "plt.figure(figsize=(15,20))\n",
    "for i in enumerate(continous_features):\n",
    "    plt.subplot(n_rows,n_columns,i[0]+1)\n",
    "    sns.boxplot(x= i[1],hue = 'churn', data = data)"
   ]
  },
  {
   "cell_type": "markdown",
   "id": "ba0d212c",
   "metadata": {},
   "source": [
    "The outliers will be kept because they were essential for training the model."
   ]
  },
  {
   "cell_type": "markdown",
   "id": "38ebb94a",
   "metadata": {},
   "source": [
    "\n",
    "\n",
    "\n"
   ]
  },
  {
   "cell_type": "markdown",
   "id": "a00bfe48",
   "metadata": {},
   "source": [
    "# 3.Modelling\n",
    "\n",
    "The metric I will be using for modellling is Accuracy\n",
    "\n",
    "For modelling I will apply:\n",
    "\n",
    "### 1. Perform an X_Train-y_Test Split\n",
    "\n",
    "### 2. Build and Evaluate a Baseline Model\n",
    "\n",
    "\n",
    "### 3. Grid search to Find the Random Forest Model\n",
    "\n",
    "\n",
    "### 4. Build Iterative Models to Find the Best Decision Tree Model\n",
    "\n",
    "### 5. Build additional Logistic Regression Models"
   ]
  },
  {
   "cell_type": "markdown",
   "id": "9b41c5ba",
   "metadata": {},
   "source": [
    "## 3.1. Splitting data into train and test"
   ]
  },
  {
   "cell_type": "code",
   "execution_count": 39,
   "id": "733de8cf",
   "metadata": {},
   "outputs": [],
   "source": [
    "#make a copy of the dataframe\n",
    "df_model = data.copy(deep=True)"
   ]
  },
  {
   "cell_type": "code",
   "execution_count": 40,
   "id": "32bd0fe2",
   "metadata": {},
   "outputs": [],
   "source": [
    "#splitting the DataFrame into features (X) and target (y)\n",
    "X = df_model.drop('churn',axis = 1)\n",
    "y = df_model['churn']"
   ]
  },
  {
   "cell_type": "code",
   "execution_count": 41,
   "id": "fbbc544c",
   "metadata": {},
   "outputs": [],
   "source": [
    "#perform the split\n",
    "X_train, X_test, y_train, y_test = train_test_split(X, y,stratify=y, test_size=0.2,random_state=42)"
   ]
  },
  {
   "cell_type": "code",
   "execution_count": 42,
   "id": "143456e2",
   "metadata": {},
   "outputs": [
    {
     "name": "stdout",
     "output_type": "stream",
     "text": [
      "(2666, 18)\n",
      "(667, 18)\n",
      "(2666,)\n",
      "(667,)\n"
     ]
    }
   ],
   "source": [
    "# Explore shape of dataframe\n",
    "print(X_train.shape)\n",
    "print(X_test.shape)\n",
    "print(y_train.shape)\n",
    "print(y_test.shape)"
   ]
  },
  {
   "cell_type": "code",
   "execution_count": 43,
   "id": "fb8a02dc",
   "metadata": {},
   "outputs": [
    {
     "data": {
      "text/plain": [
       "international_plan         0\n",
       "voice_mail_plan            0\n",
       "number_vmail_messages      0\n",
       "total_day_minutes          0\n",
       "total_day_calls            0\n",
       "total_day_charge           0\n",
       "total_eve_minutes          0\n",
       "total_eve_calls            0\n",
       "total_eve_charge           0\n",
       "total_night_minutes        0\n",
       "total_night_calls          0\n",
       "total_night_charge         0\n",
       "total_intl_minutes         0\n",
       "total_intl_calls           0\n",
       "total_intl_charge          0\n",
       "customer_service_calls     0\n",
       "total_spend                0\n",
       "called_customer_service    0\n",
       "dtype: int64"
      ]
     },
     "execution_count": 43,
     "metadata": {},
     "output_type": "execute_result"
    }
   ],
   "source": [
    "#checking for null values in the x test\n",
    "X_test.isna().sum()"
   ]
  },
  {
   "cell_type": "code",
   "execution_count": 44,
   "id": "59984ef8",
   "metadata": {},
   "outputs": [
    {
     "data": {
      "text/html": [
       "<div>\n",
       "<style scoped>\n",
       "    .dataframe tbody tr th:only-of-type {\n",
       "        vertical-align: middle;\n",
       "    }\n",
       "\n",
       "    .dataframe tbody tr th {\n",
       "        vertical-align: top;\n",
       "    }\n",
       "\n",
       "    .dataframe thead th {\n",
       "        text-align: right;\n",
       "    }\n",
       "</style>\n",
       "<table border=\"1\" class=\"dataframe\">\n",
       "  <thead>\n",
       "    <tr style=\"text-align: right;\">\n",
       "      <th></th>\n",
       "      <th>international_plan</th>\n",
       "      <th>voice_mail_plan</th>\n",
       "      <th>number_vmail_messages</th>\n",
       "      <th>total_day_minutes</th>\n",
       "      <th>total_day_calls</th>\n",
       "      <th>total_day_charge</th>\n",
       "      <th>total_eve_minutes</th>\n",
       "      <th>total_eve_calls</th>\n",
       "      <th>total_eve_charge</th>\n",
       "      <th>total_night_minutes</th>\n",
       "      <th>total_night_calls</th>\n",
       "      <th>total_night_charge</th>\n",
       "      <th>total_intl_minutes</th>\n",
       "      <th>total_intl_calls</th>\n",
       "      <th>total_intl_charge</th>\n",
       "      <th>customer_service_calls</th>\n",
       "      <th>churn</th>\n",
       "      <th>total_spend</th>\n",
       "      <th>called_customer_service</th>\n",
       "    </tr>\n",
       "  </thead>\n",
       "  <tbody>\n",
       "    <tr>\n",
       "      <th>0</th>\n",
       "      <td>no</td>\n",
       "      <td>yes</td>\n",
       "      <td>25</td>\n",
       "      <td>265.1</td>\n",
       "      <td>110</td>\n",
       "      <td>45.07</td>\n",
       "      <td>197.4</td>\n",
       "      <td>99</td>\n",
       "      <td>16.78</td>\n",
       "      <td>244.7</td>\n",
       "      <td>91</td>\n",
       "      <td>11.01</td>\n",
       "      <td>10.0</td>\n",
       "      <td>3</td>\n",
       "      <td>2.7</td>\n",
       "      <td>1</td>\n",
       "      <td>False</td>\n",
       "      <td>75.56</td>\n",
       "      <td>True</td>\n",
       "    </tr>\n",
       "    <tr>\n",
       "      <th>1</th>\n",
       "      <td>no</td>\n",
       "      <td>yes</td>\n",
       "      <td>26</td>\n",
       "      <td>161.6</td>\n",
       "      <td>123</td>\n",
       "      <td>27.47</td>\n",
       "      <td>195.5</td>\n",
       "      <td>103</td>\n",
       "      <td>16.62</td>\n",
       "      <td>254.4</td>\n",
       "      <td>103</td>\n",
       "      <td>11.45</td>\n",
       "      <td>13.7</td>\n",
       "      <td>3</td>\n",
       "      <td>3.7</td>\n",
       "      <td>1</td>\n",
       "      <td>False</td>\n",
       "      <td>59.24</td>\n",
       "      <td>True</td>\n",
       "    </tr>\n",
       "  </tbody>\n",
       "</table>\n",
       "</div>"
      ],
      "text/plain": [
       "  international_plan voice_mail_plan  number_vmail_messages  \\\n",
       "0                 no             yes                     25   \n",
       "1                 no             yes                     26   \n",
       "\n",
       "   total_day_minutes  total_day_calls  total_day_charge  total_eve_minutes  \\\n",
       "0              265.1              110             45.07              197.4   \n",
       "1              161.6              123             27.47              195.5   \n",
       "\n",
       "   total_eve_calls  total_eve_charge  total_night_minutes  total_night_calls  \\\n",
       "0               99             16.78                244.7                 91   \n",
       "1              103             16.62                254.4                103   \n",
       "\n",
       "   total_night_charge  total_intl_minutes  total_intl_calls  \\\n",
       "0               11.01                10.0                 3   \n",
       "1               11.45                13.7                 3   \n",
       "\n",
       "   total_intl_charge  customer_service_calls  churn  total_spend  \\\n",
       "0                2.7                       1  False        75.56   \n",
       "1                3.7                       1  False        59.24   \n",
       "\n",
       "   called_customer_service  \n",
       "0                     True  \n",
       "1                     True  "
      ]
     },
     "execution_count": 44,
     "metadata": {},
     "output_type": "execute_result"
    }
   ],
   "source": [
    "df_model.head(2)"
   ]
  },
  {
   "cell_type": "code",
   "execution_count": 45,
   "id": "6958e971",
   "metadata": {},
   "outputs": [],
   "source": [
    "X_train.drop(['called_customer_service'],axis = 1,inplace = True)\n",
    "X_test.drop(['called_customer_service'],axis = 1,inplace = True)"
   ]
  },
  {
   "cell_type": "code",
   "execution_count": 46,
   "id": "a173af1c",
   "metadata": {},
   "outputs": [
    {
     "name": "stdout",
     "output_type": "stream",
     "text": [
      "<class 'pandas.core.frame.DataFrame'>\n",
      "Int64Index: 2666 entries, 3286 to 2762\n",
      "Data columns (total 17 columns):\n",
      " #   Column                  Non-Null Count  Dtype  \n",
      "---  ------                  --------------  -----  \n",
      " 0   international_plan      2666 non-null   object \n",
      " 1   voice_mail_plan         2666 non-null   object \n",
      " 2   number_vmail_messages   2666 non-null   int64  \n",
      " 3   total_day_minutes       2666 non-null   float64\n",
      " 4   total_day_calls         2666 non-null   int64  \n",
      " 5   total_day_charge        2666 non-null   float64\n",
      " 6   total_eve_minutes       2666 non-null   float64\n",
      " 7   total_eve_calls         2666 non-null   int64  \n",
      " 8   total_eve_charge        2666 non-null   float64\n",
      " 9   total_night_minutes     2666 non-null   float64\n",
      " 10  total_night_calls       2666 non-null   int64  \n",
      " 11  total_night_charge      2666 non-null   float64\n",
      " 12  total_intl_minutes      2666 non-null   float64\n",
      " 13  total_intl_calls        2666 non-null   int64  \n",
      " 14  total_intl_charge       2666 non-null   float64\n",
      " 15  customer_service_calls  2666 non-null   int64  \n",
      " 16  total_spend             2666 non-null   float64\n",
      "dtypes: float64(9), int64(6), object(2)\n",
      "memory usage: 374.9+ KB\n"
     ]
    }
   ],
   "source": [
    "#checking the info of the X_train frame\n",
    "X_train.info()"
   ]
  },
  {
   "cell_type": "markdown",
   "id": "ce9855f5",
   "metadata": {},
   "source": [
    "## 3.2.Categorical and numerical Variable Treatment"
   ]
  },
  {
   "cell_type": "markdown",
   "id": "efab95d5",
   "metadata": {},
   "source": [
    "my categorical columns will need to be OneHotEncoded and the numerical columns will need to be put through a StandardScaler so all values are on the same scale."
   ]
  },
  {
   "cell_type": "code",
   "execution_count": 47,
   "id": "5ab47cbe",
   "metadata": {},
   "outputs": [
    {
     "data": {
      "text/html": [
       "<div>\n",
       "<style scoped>\n",
       "    .dataframe tbody tr th:only-of-type {\n",
       "        vertical-align: middle;\n",
       "    }\n",
       "\n",
       "    .dataframe tbody tr th {\n",
       "        vertical-align: top;\n",
       "    }\n",
       "\n",
       "    .dataframe thead th {\n",
       "        text-align: right;\n",
       "    }\n",
       "</style>\n",
       "<table border=\"1\" class=\"dataframe\">\n",
       "  <thead>\n",
       "    <tr style=\"text-align: right;\">\n",
       "      <th></th>\n",
       "      <th>international_plan</th>\n",
       "      <th>voice_mail_plan</th>\n",
       "    </tr>\n",
       "  </thead>\n",
       "  <tbody>\n",
       "    <tr>\n",
       "      <th>0</th>\n",
       "      <td>no</td>\n",
       "      <td>yes</td>\n",
       "    </tr>\n",
       "  </tbody>\n",
       "</table>\n",
       "</div>"
      ],
      "text/plain": [
       "  international_plan voice_mail_plan\n",
       "0                 no             yes"
      ]
     },
     "execution_count": 47,
     "metadata": {},
     "output_type": "execute_result"
    }
   ],
   "source": [
    "#our categorical columns\n",
    "categorical_features.head(1)"
   ]
  },
  {
   "cell_type": "code",
   "execution_count": 48,
   "id": "a391e3bc",
   "metadata": {},
   "outputs": [
    {
     "data": {
      "text/html": [
       "<div>\n",
       "<style scoped>\n",
       "    .dataframe tbody tr th:only-of-type {\n",
       "        vertical-align: middle;\n",
       "    }\n",
       "\n",
       "    .dataframe tbody tr th {\n",
       "        vertical-align: top;\n",
       "    }\n",
       "\n",
       "    .dataframe thead th {\n",
       "        text-align: right;\n",
       "    }\n",
       "</style>\n",
       "<table border=\"1\" class=\"dataframe\">\n",
       "  <thead>\n",
       "    <tr style=\"text-align: right;\">\n",
       "      <th></th>\n",
       "      <th>international_plan</th>\n",
       "      <th>voice_mail_plan</th>\n",
       "      <th>number_vmail_messages</th>\n",
       "      <th>total_day_minutes</th>\n",
       "      <th>total_day_calls</th>\n",
       "      <th>total_day_charge</th>\n",
       "      <th>total_eve_minutes</th>\n",
       "      <th>total_eve_calls</th>\n",
       "      <th>total_eve_charge</th>\n",
       "      <th>total_night_minutes</th>\n",
       "      <th>total_night_calls</th>\n",
       "      <th>total_night_charge</th>\n",
       "      <th>total_intl_minutes</th>\n",
       "      <th>total_intl_calls</th>\n",
       "      <th>total_intl_charge</th>\n",
       "      <th>customer_service_calls</th>\n",
       "      <th>total_spend</th>\n",
       "    </tr>\n",
       "  </thead>\n",
       "  <tbody>\n",
       "    <tr>\n",
       "      <th>3286</th>\n",
       "      <td>0</td>\n",
       "      <td>1</td>\n",
       "      <td>30</td>\n",
       "      <td>220.1</td>\n",
       "      <td>105</td>\n",
       "      <td>37.42</td>\n",
       "      <td>222.2</td>\n",
       "      <td>109</td>\n",
       "      <td>18.89</td>\n",
       "      <td>158.4</td>\n",
       "      <td>96</td>\n",
       "      <td>7.13</td>\n",
       "      <td>13.1</td>\n",
       "      <td>8</td>\n",
       "      <td>3.54</td>\n",
       "      <td>0</td>\n",
       "      <td>66.98</td>\n",
       "    </tr>\n",
       "    <tr>\n",
       "      <th>86</th>\n",
       "      <td>0</td>\n",
       "      <td>0</td>\n",
       "      <td>0</td>\n",
       "      <td>157.9</td>\n",
       "      <td>105</td>\n",
       "      <td>26.84</td>\n",
       "      <td>155.0</td>\n",
       "      <td>101</td>\n",
       "      <td>13.18</td>\n",
       "      <td>189.6</td>\n",
       "      <td>84</td>\n",
       "      <td>8.53</td>\n",
       "      <td>8.0</td>\n",
       "      <td>5</td>\n",
       "      <td>2.16</td>\n",
       "      <td>4</td>\n",
       "      <td>50.71</td>\n",
       "    </tr>\n",
       "    <tr>\n",
       "      <th>1349</th>\n",
       "      <td>0</td>\n",
       "      <td>1</td>\n",
       "      <td>22</td>\n",
       "      <td>141.4</td>\n",
       "      <td>107</td>\n",
       "      <td>24.04</td>\n",
       "      <td>163.0</td>\n",
       "      <td>105</td>\n",
       "      <td>13.86</td>\n",
       "      <td>220.0</td>\n",
       "      <td>99</td>\n",
       "      <td>9.90</td>\n",
       "      <td>5.6</td>\n",
       "      <td>3</td>\n",
       "      <td>1.51</td>\n",
       "      <td>2</td>\n",
       "      <td>49.31</td>\n",
       "    </tr>\n",
       "    <tr>\n",
       "      <th>1649</th>\n",
       "      <td>0</td>\n",
       "      <td>0</td>\n",
       "      <td>0</td>\n",
       "      <td>68.4</td>\n",
       "      <td>86</td>\n",
       "      <td>11.63</td>\n",
       "      <td>193.3</td>\n",
       "      <td>110</td>\n",
       "      <td>16.43</td>\n",
       "      <td>171.5</td>\n",
       "      <td>139</td>\n",
       "      <td>7.72</td>\n",
       "      <td>10.4</td>\n",
       "      <td>4</td>\n",
       "      <td>2.81</td>\n",
       "      <td>0</td>\n",
       "      <td>38.59</td>\n",
       "    </tr>\n",
       "    <tr>\n",
       "      <th>3000</th>\n",
       "      <td>0</td>\n",
       "      <td>0</td>\n",
       "      <td>0</td>\n",
       "      <td>223.2</td>\n",
       "      <td>109</td>\n",
       "      <td>37.94</td>\n",
       "      <td>127.5</td>\n",
       "      <td>86</td>\n",
       "      <td>10.84</td>\n",
       "      <td>289.3</td>\n",
       "      <td>83</td>\n",
       "      <td>13.02</td>\n",
       "      <td>14.5</td>\n",
       "      <td>4</td>\n",
       "      <td>3.92</td>\n",
       "      <td>3</td>\n",
       "      <td>65.72</td>\n",
       "    </tr>\n",
       "  </tbody>\n",
       "</table>\n",
       "</div>"
      ],
      "text/plain": [
       "      international_plan  voice_mail_plan  number_vmail_messages  \\\n",
       "3286                   0                1                     30   \n",
       "86                     0                0                      0   \n",
       "1349                   0                1                     22   \n",
       "1649                   0                0                      0   \n",
       "3000                   0                0                      0   \n",
       "\n",
       "      total_day_minutes  total_day_calls  total_day_charge  total_eve_minutes  \\\n",
       "3286              220.1              105             37.42              222.2   \n",
       "86                157.9              105             26.84              155.0   \n",
       "1349              141.4              107             24.04              163.0   \n",
       "1649               68.4               86             11.63              193.3   \n",
       "3000              223.2              109             37.94              127.5   \n",
       "\n",
       "      total_eve_calls  total_eve_charge  total_night_minutes  \\\n",
       "3286              109             18.89                158.4   \n",
       "86                101             13.18                189.6   \n",
       "1349              105             13.86                220.0   \n",
       "1649              110             16.43                171.5   \n",
       "3000               86             10.84                289.3   \n",
       "\n",
       "      total_night_calls  total_night_charge  total_intl_minutes  \\\n",
       "3286                 96                7.13                13.1   \n",
       "86                   84                8.53                 8.0   \n",
       "1349                 99                9.90                 5.6   \n",
       "1649                139                7.72                10.4   \n",
       "3000                 83               13.02                14.5   \n",
       "\n",
       "      total_intl_calls  total_intl_charge  customer_service_calls  total_spend  \n",
       "3286                 8               3.54                       0        66.98  \n",
       "86                   5               2.16                       4        50.71  \n",
       "1349                 3               1.51                       2        49.31  \n",
       "1649                 4               2.81                       0        38.59  \n",
       "3000                 4               3.92                       3        65.72  "
      ]
     },
     "metadata": {},
     "output_type": "display_data"
    },
    {
     "data": {
      "text/html": [
       "<div>\n",
       "<style scoped>\n",
       "    .dataframe tbody tr th:only-of-type {\n",
       "        vertical-align: middle;\n",
       "    }\n",
       "\n",
       "    .dataframe tbody tr th {\n",
       "        vertical-align: top;\n",
       "    }\n",
       "\n",
       "    .dataframe thead th {\n",
       "        text-align: right;\n",
       "    }\n",
       "</style>\n",
       "<table border=\"1\" class=\"dataframe\">\n",
       "  <thead>\n",
       "    <tr style=\"text-align: right;\">\n",
       "      <th></th>\n",
       "      <th>international_plan</th>\n",
       "      <th>voice_mail_plan</th>\n",
       "      <th>number_vmail_messages</th>\n",
       "      <th>total_day_minutes</th>\n",
       "      <th>total_day_calls</th>\n",
       "      <th>total_day_charge</th>\n",
       "      <th>total_eve_minutes</th>\n",
       "      <th>total_eve_calls</th>\n",
       "      <th>total_eve_charge</th>\n",
       "      <th>total_night_minutes</th>\n",
       "      <th>total_night_calls</th>\n",
       "      <th>total_night_charge</th>\n",
       "      <th>total_intl_minutes</th>\n",
       "      <th>total_intl_calls</th>\n",
       "      <th>total_intl_charge</th>\n",
       "      <th>customer_service_calls</th>\n",
       "      <th>total_spend</th>\n",
       "    </tr>\n",
       "  </thead>\n",
       "  <tbody>\n",
       "    <tr>\n",
       "      <th>601</th>\n",
       "      <td>1</td>\n",
       "      <td>0</td>\n",
       "      <td>0</td>\n",
       "      <td>159.7</td>\n",
       "      <td>86</td>\n",
       "      <td>27.15</td>\n",
       "      <td>197.5</td>\n",
       "      <td>76</td>\n",
       "      <td>16.79</td>\n",
       "      <td>121.6</td>\n",
       "      <td>105</td>\n",
       "      <td>5.47</td>\n",
       "      <td>13.9</td>\n",
       "      <td>6</td>\n",
       "      <td>3.75</td>\n",
       "      <td>0</td>\n",
       "      <td>53.16</td>\n",
       "    </tr>\n",
       "    <tr>\n",
       "      <th>2050</th>\n",
       "      <td>0</td>\n",
       "      <td>0</td>\n",
       "      <td>0</td>\n",
       "      <td>213.2</td>\n",
       "      <td>79</td>\n",
       "      <td>36.24</td>\n",
       "      <td>120.7</td>\n",
       "      <td>116</td>\n",
       "      <td>10.26</td>\n",
       "      <td>244.4</td>\n",
       "      <td>102</td>\n",
       "      <td>11.00</td>\n",
       "      <td>7.5</td>\n",
       "      <td>4</td>\n",
       "      <td>2.03</td>\n",
       "      <td>1</td>\n",
       "      <td>59.53</td>\n",
       "    </tr>\n",
       "    <tr>\n",
       "      <th>3200</th>\n",
       "      <td>1</td>\n",
       "      <td>0</td>\n",
       "      <td>0</td>\n",
       "      <td>107.2</td>\n",
       "      <td>98</td>\n",
       "      <td>18.22</td>\n",
       "      <td>86.8</td>\n",
       "      <td>122</td>\n",
       "      <td>7.38</td>\n",
       "      <td>156.2</td>\n",
       "      <td>117</td>\n",
       "      <td>7.03</td>\n",
       "      <td>9.7</td>\n",
       "      <td>4</td>\n",
       "      <td>2.62</td>\n",
       "      <td>1</td>\n",
       "      <td>35.25</td>\n",
       "    </tr>\n",
       "    <tr>\n",
       "      <th>1953</th>\n",
       "      <td>0</td>\n",
       "      <td>0</td>\n",
       "      <td>0</td>\n",
       "      <td>208.8</td>\n",
       "      <td>120</td>\n",
       "      <td>35.50</td>\n",
       "      <td>225.3</td>\n",
       "      <td>100</td>\n",
       "      <td>19.15</td>\n",
       "      <td>221.6</td>\n",
       "      <td>130</td>\n",
       "      <td>9.97</td>\n",
       "      <td>11.1</td>\n",
       "      <td>5</td>\n",
       "      <td>3.00</td>\n",
       "      <td>0</td>\n",
       "      <td>67.62</td>\n",
       "    </tr>\n",
       "    <tr>\n",
       "      <th>1119</th>\n",
       "      <td>0</td>\n",
       "      <td>0</td>\n",
       "      <td>0</td>\n",
       "      <td>208.3</td>\n",
       "      <td>106</td>\n",
       "      <td>35.41</td>\n",
       "      <td>236.7</td>\n",
       "      <td>123</td>\n",
       "      <td>20.12</td>\n",
       "      <td>179.1</td>\n",
       "      <td>120</td>\n",
       "      <td>8.06</td>\n",
       "      <td>11.3</td>\n",
       "      <td>5</td>\n",
       "      <td>3.05</td>\n",
       "      <td>3</td>\n",
       "      <td>66.64</td>\n",
       "    </tr>\n",
       "  </tbody>\n",
       "</table>\n",
       "</div>"
      ],
      "text/plain": [
       "      international_plan  voice_mail_plan  number_vmail_messages  \\\n",
       "601                    1                0                      0   \n",
       "2050                   0                0                      0   \n",
       "3200                   1                0                      0   \n",
       "1953                   0                0                      0   \n",
       "1119                   0                0                      0   \n",
       "\n",
       "      total_day_minutes  total_day_calls  total_day_charge  total_eve_minutes  \\\n",
       "601               159.7               86             27.15              197.5   \n",
       "2050              213.2               79             36.24              120.7   \n",
       "3200              107.2               98             18.22               86.8   \n",
       "1953              208.8              120             35.50              225.3   \n",
       "1119              208.3              106             35.41              236.7   \n",
       "\n",
       "      total_eve_calls  total_eve_charge  total_night_minutes  \\\n",
       "601                76             16.79                121.6   \n",
       "2050              116             10.26                244.4   \n",
       "3200              122              7.38                156.2   \n",
       "1953              100             19.15                221.6   \n",
       "1119              123             20.12                179.1   \n",
       "\n",
       "      total_night_calls  total_night_charge  total_intl_minutes  \\\n",
       "601                 105                5.47                13.9   \n",
       "2050                102               11.00                 7.5   \n",
       "3200                117                7.03                 9.7   \n",
       "1953                130                9.97                11.1   \n",
       "1119                120                8.06                11.3   \n",
       "\n",
       "      total_intl_calls  total_intl_charge  customer_service_calls  total_spend  \n",
       "601                  6               3.75                       0        53.16  \n",
       "2050                 4               2.03                       1        59.53  \n",
       "3200                 4               2.62                       1        35.25  \n",
       "1953                 5               3.00                       0        67.62  \n",
       "1119                 5               3.05                       3        66.64  "
      ]
     },
     "metadata": {},
     "output_type": "display_data"
    }
   ],
   "source": [
    "#encode categorical data as numbers¶\n",
    "# creating instance of label encoder\n",
    "labelencoder = LabelEncoder()\n",
    "\n",
    "for c in categorical_features:\n",
    "    X_train[c] = labelencoder.fit_transform(X_train[c])\n",
    "    X_test[c] = labelencoder.fit_transform(X_test[c])\n",
    "\n",
    "display(X_train.head())\n",
    "display(X_test.head())"
   ]
  },
  {
   "cell_type": "code",
   "execution_count": 49,
   "id": "a6318fdf",
   "metadata": {},
   "outputs": [
    {
     "data": {
      "text/plain": [
       "(2666, 17)"
      ]
     },
     "execution_count": 49,
     "metadata": {},
     "output_type": "execute_result"
    }
   ],
   "source": [
    "#checking the records of the Xtrain dataframe\n",
    "X_train.shape"
   ]
  },
  {
   "cell_type": "markdown",
   "id": "214555e8",
   "metadata": {},
   "source": [
    "## 3.3.Feature Scaling\n",
    "The current data is mostly on different scales which will hinder the effectiveness of models.  \n",
    "scaler = MinMaxScaler()"
   ]
  },
  {
   "cell_type": "code",
   "execution_count": 50,
   "id": "5c499013",
   "metadata": {},
   "outputs": [],
   "source": [
    "#create a function to store columns to scale\n",
    "feature_scale = [feature for feature in X_train.columns if feature not in ['State','Area code','Account length','International plan','Voice mail plan']]"
   ]
  },
  {
   "cell_type": "code",
   "execution_count": 51,
   "id": "80c3a8b0",
   "metadata": {},
   "outputs": [
    {
     "data": {
      "text/plain": [
       "['international_plan',\n",
       " 'voice_mail_plan',\n",
       " 'number_vmail_messages',\n",
       " 'total_day_minutes',\n",
       " 'total_day_calls',\n",
       " 'total_day_charge',\n",
       " 'total_eve_minutes',\n",
       " 'total_eve_calls',\n",
       " 'total_eve_charge',\n",
       " 'total_night_minutes',\n",
       " 'total_night_calls',\n",
       " 'total_night_charge',\n",
       " 'total_intl_minutes',\n",
       " 'total_intl_calls',\n",
       " 'total_intl_charge',\n",
       " 'customer_service_calls',\n",
       " 'total_spend']"
      ]
     },
     "execution_count": 51,
     "metadata": {},
     "output_type": "execute_result"
    }
   ],
   "source": [
    "feature_scale"
   ]
  },
  {
   "cell_type": "code",
   "execution_count": 52,
   "id": "1ceb4e45",
   "metadata": {},
   "outputs": [],
   "source": [
    "from sklearn.preprocessing import MinMaxScaler, OrdinalEncoder\n",
    "scaler = MinMaxScaler()\n",
    "#encoder = OrdinalEncoder()\n",
    "X_train_scaled = scaler.fit_transform(X_train[feature_scale])"
   ]
  },
  {
   "cell_type": "code",
   "execution_count": 53,
   "id": "0fdaffcb",
   "metadata": {},
   "outputs": [],
   "source": [
    "X_test_scaled = scaler.fit_transform(X_test[feature_scale])"
   ]
  },
  {
   "cell_type": "code",
   "execution_count": 54,
   "id": "81f6771e",
   "metadata": {},
   "outputs": [],
   "source": [
    "# Convert back scaled data into dataframes\n",
    "X_train_scaled = pd.DataFrame(X_train_scaled, columns = X_train.columns, index = X_train.index)\n",
    "X_test_scaled = pd.DataFrame(X_test_scaled, columns = X_test.columns, index = X_test.index)\n"
   ]
  },
  {
   "cell_type": "code",
   "execution_count": 55,
   "id": "a5ee102b",
   "metadata": {},
   "outputs": [
    {
     "data": {
      "text/plain": [
       "international_plan        0\n",
       "voice_mail_plan           0\n",
       "number_vmail_messages     0\n",
       "total_day_minutes         0\n",
       "total_day_calls           0\n",
       "total_day_charge          0\n",
       "total_eve_minutes         0\n",
       "total_eve_calls           0\n",
       "total_eve_charge          0\n",
       "total_night_minutes       0\n",
       "total_night_calls         0\n",
       "total_night_charge        0\n",
       "total_intl_minutes        0\n",
       "total_intl_calls          0\n",
       "total_intl_charge         0\n",
       "customer_service_calls    0\n",
       "total_spend               0\n",
       "dtype: int64"
      ]
     },
     "execution_count": 55,
     "metadata": {},
     "output_type": "execute_result"
    }
   ],
   "source": [
    "#Check for missing values in our scaled dataframe\n",
    "X_train_scaled.isna().sum()"
   ]
  },
  {
   "cell_type": "code",
   "execution_count": 56,
   "id": "1dedc8f1",
   "metadata": {},
   "outputs": [
    {
     "data": {
      "text/plain": [
       "international_plan        0\n",
       "voice_mail_plan           0\n",
       "number_vmail_messages     0\n",
       "total_day_minutes         0\n",
       "total_day_calls           0\n",
       "total_day_charge          0\n",
       "total_eve_minutes         0\n",
       "total_eve_calls           0\n",
       "total_eve_charge          0\n",
       "total_night_minutes       0\n",
       "total_night_calls         0\n",
       "total_night_charge        0\n",
       "total_intl_minutes        0\n",
       "total_intl_calls          0\n",
       "total_intl_charge         0\n",
       "customer_service_calls    0\n",
       "total_spend               0\n",
       "dtype: int64"
      ]
     },
     "execution_count": 56,
     "metadata": {},
     "output_type": "execute_result"
    }
   ],
   "source": [
    "X_test_scaled.isna().sum()"
   ]
  },
  {
   "cell_type": "markdown",
   "id": "06161d27",
   "metadata": {},
   "source": [
    "## 3.4. Class Imbalance  \n",
    "We Use SMOTE to remove class imbalance"
   ]
  },
  {
   "cell_type": "code",
   "execution_count": 57,
   "id": "fe9867ec",
   "metadata": {},
   "outputs": [
    {
     "data": {
      "text/html": [
       "<div>\n",
       "<style scoped>\n",
       "    .dataframe tbody tr th:only-of-type {\n",
       "        vertical-align: middle;\n",
       "    }\n",
       "\n",
       "    .dataframe tbody tr th {\n",
       "        vertical-align: top;\n",
       "    }\n",
       "\n",
       "    .dataframe thead th {\n",
       "        text-align: right;\n",
       "    }\n",
       "</style>\n",
       "<table border=\"1\" class=\"dataframe\">\n",
       "  <thead>\n",
       "    <tr style=\"text-align: right;\">\n",
       "      <th></th>\n",
       "      <th>churn</th>\n",
       "    </tr>\n",
       "  </thead>\n",
       "  <tbody>\n",
       "    <tr>\n",
       "      <th>False</th>\n",
       "      <td>0.855214</td>\n",
       "    </tr>\n",
       "    <tr>\n",
       "      <th>True</th>\n",
       "      <td>0.144786</td>\n",
       "    </tr>\n",
       "  </tbody>\n",
       "</table>\n",
       "</div>"
      ],
      "text/plain": [
       "          churn\n",
       "False  0.855214\n",
       "True   0.144786"
      ]
     },
     "execution_count": 57,
     "metadata": {},
     "output_type": "execute_result"
    }
   ],
   "source": [
    "# Explore value counts y Variables\n",
    "y_train.value_counts(normalize = True).to_frame()"
   ]
  },
  {
   "cell_type": "code",
   "execution_count": null,
   "id": "1c1f5930",
   "metadata": {},
   "outputs": [],
   "source": []
  },
  {
   "cell_type": "markdown",
   "id": "f7fd3232",
   "metadata": {},
   "source": [
    "If we were to just predict the most frequent churn value, no churn, then we would be correct 85% of the time."
   ]
  },
  {
   "cell_type": "code",
   "execution_count": 58,
   "id": "5c511286",
   "metadata": {},
   "outputs": [
    {
     "name": "stdout",
     "output_type": "stream",
     "text": [
      "Baseline Accuracy: 85.0%\n"
     ]
    }
   ],
   "source": [
    "from sklearn.dummy import DummyClassifier\n",
    "dummy = DummyClassifier(strategy='most_frequent')\n",
    "dummy.fit(X_train, y_train)\n",
    "baseline_acc = round(dummy.score(X_test, y_test), 2) * 100\n",
    "print('Baseline Accuracy: {0}%'.format(baseline_acc))"
   ]
  },
  {
   "cell_type": "code",
   "execution_count": 59,
   "id": "3a80a72d",
   "metadata": {},
   "outputs": [],
   "source": [
    "# Using SMOTE to remove class imbalance\n",
    "sm = SMOTE(random_state = 42)\n",
    "\n",
    "# Fitting SMOTE to the y\n",
    "X_train_smote, y_train_smote = sm.fit_resample(X_train_scaled, y_train)\n"
   ]
  },
  {
   "cell_type": "code",
   "execution_count": 60,
   "id": "b310ca72",
   "metadata": {},
   "outputs": [
    {
     "data": {
      "text/html": [
       "<div>\n",
       "<style scoped>\n",
       "    .dataframe tbody tr th:only-of-type {\n",
       "        vertical-align: middle;\n",
       "    }\n",
       "\n",
       "    .dataframe tbody tr th {\n",
       "        vertical-align: top;\n",
       "    }\n",
       "\n",
       "    .dataframe thead th {\n",
       "        text-align: right;\n",
       "    }\n",
       "</style>\n",
       "<table border=\"1\" class=\"dataframe\">\n",
       "  <thead>\n",
       "    <tr style=\"text-align: right;\">\n",
       "      <th></th>\n",
       "      <th>churn</th>\n",
       "    </tr>\n",
       "  </thead>\n",
       "  <tbody>\n",
       "    <tr>\n",
       "      <th>False</th>\n",
       "      <td>0.5</td>\n",
       "    </tr>\n",
       "    <tr>\n",
       "      <th>True</th>\n",
       "      <td>0.5</td>\n",
       "    </tr>\n",
       "  </tbody>\n",
       "</table>\n",
       "</div>"
      ],
      "text/plain": [
       "       churn\n",
       "False    0.5\n",
       "True     0.5"
      ]
     },
     "execution_count": 60,
     "metadata": {},
     "output_type": "execute_result"
    }
   ],
   "source": [
    "# Print new value counts\n",
    "y_train_smote.value_counts(normalize=True).to_frame()"
   ]
  },
  {
   "cell_type": "code",
   "execution_count": 61,
   "id": "734f9168",
   "metadata": {},
   "outputs": [
    {
     "name": "stdout",
     "output_type": "stream",
     "text": [
      "Raw Counts\n",
      "False    2280\n",
      "True     2280\n",
      "Name: churn, dtype: int64\n",
      "\n",
      "Percentages\n",
      "False    0.5\n",
      "True     0.5\n",
      "Name: churn, dtype: float64\n"
     ]
    }
   ],
   "source": [
    "# check the dummy accuracy of the raw data\n",
    "print(\"Raw Counts\")\n",
    "print(y_train_smote.value_counts())\n",
    "print()\n",
    "print(\"Percentages\")\n",
    "print(y_train_smote.value_counts(normalize=True))"
   ]
  },
  {
   "cell_type": "markdown",
   "id": "50f3b915",
   "metadata": {},
   "source": [
    "## 3.5. Baseline Model\n",
    "- Without performing  hyperparameter tuning, build and evaluate a several classification models then pick the top three for further tuning."
   ]
  },
  {
   "cell_type": "code",
   "execution_count": 62,
   "id": "8db9196f",
   "metadata": {},
   "outputs": [],
   "source": [
    "# Create names for the different classification methods\n",
    "random_forest = RandomForestClassifier(random_state = 42)\n",
    "logistic_regression = LogisticRegression(random_state = 42)\n",
    "decision_tree = DecisionTreeClassifier(random_state = 42)\n",
    "knn = KNeighborsClassifier()\n",
    "gaussianNB = GaussianNB()"
   ]
  },
  {
   "cell_type": "code",
   "execution_count": 63,
   "id": "64fe50b2",
   "metadata": {},
   "outputs": [],
   "source": [
    "# Create a function for classification\n",
    "train_accuracy = [ ]\n",
    "test_accuracy = []\n",
    "model_list = [random_forest, logistic_regression, decision_tree, knn,gaussianNB]\n",
    "for i in model_list:\n",
    "    i = i.fit(X_train, y_train)\n",
    "    ytrain_pred = i.predict(X_train)\n",
    "    ytest_pred = i.predict(X_test)\n",
    "    train_accuracy.append(accuracy_score(ytrain_pred, y_train))\n",
    "    test_accuracy.append(accuracy_score(ytest_pred, y_test))"
   ]
  },
  {
   "cell_type": "code",
   "execution_count": 64,
   "id": "9c8147d1",
   "metadata": {},
   "outputs": [
    {
     "data": {
      "text/plain": [
       "[1.0, 0.8540885221305327, 1.0, 0.9021005251312828, 0.8780945236309077]"
      ]
     },
     "execution_count": 64,
     "metadata": {},
     "output_type": "execute_result"
    }
   ],
   "source": [
    "# print train accuracy\n",
    "train_accuracy"
   ]
  },
  {
   "cell_type": "code",
   "execution_count": 65,
   "id": "1118a273",
   "metadata": {},
   "outputs": [
    {
     "data": {
      "text/plain": [
       "[0.9685157421289355,\n",
       " 0.841079460269865,\n",
       " 0.9310344827586207,\n",
       " 0.8755622188905547,\n",
       " 0.8650674662668666]"
      ]
     },
     "execution_count": 65,
     "metadata": {},
     "output_type": "execute_result"
    }
   ],
   "source": [
    "# print test accuracy\n",
    "test_accuracy"
   ]
  },
  {
   "cell_type": "code",
   "execution_count": 66,
   "id": "452bd0f4",
   "metadata": {},
   "outputs": [
    {
     "data": {
      "image/png": "[encoded data removed]",
      "text/plain": [
       "<Figure size 504x504 with 1 Axes>"
      ]
     },
     "metadata": {
      "needs_background": "light"
     },
     "output_type": "display_data"
    }
   ],
   "source": [
    "# I will visualize the test accuracy results\n",
    "model_names = [\"random_forest\",\"logistic_regression\",\"decision_tree\",\"knn\", \"gaussianNB\"]\n",
    "plt.figure(figsize = (7, 7))\n",
    "sns.barplot(x = model_names, y = test_accuracy)\n",
    "plt.show()"
   ]
  },
  {
   "cell_type": "markdown",
   "id": "a2823f12",
   "metadata": {},
   "source": [
    "Summary of results\n",
    "-Random Forest Classifier  \n",
    "- Train Accuracy = 100%\n",
    "- Test Accuracy = 97%\n",
    "-Logistic Regression Classifier  \n",
    "- Train Accuracy = 85%\n",
    "- Test Accuracy = 85%\n",
    "-Decision Tree accuracy  \n",
    "- Train Accuracy = 100%\n",
    "- Test Accuracy = 93%\n",
    "-KNN accuracy  \n",
    "- Train Accuracy = 90%\n",
    "- Test Accuracy = 88%\n",
    "-Gaussian accuracy  \n",
    "- Train Accuracy = 88%\n",
    "- Test Accuracy =  87%\n",
    "Using the test accuracy, the top perfoming models are:\n",
    "\n",
    "Random Forest Classifier (best)\n",
    "\n",
    "Decision Tree Classifier\n",
    "\n",
    "knn Classifier\n",
    "\n",
    "Random Forest,Decision Trees and Knn show high cases of overfitting. More tuning could improve these models.\n",
    "\n",
    "While Logistic regression has a lesser percentage in testing fit compared to the other two, it shows less chances of overfitting but it could be improved.\n",
    "\n",
    "I will perform more tuning to these three classification models to improve them"
   ]
  },
  {
   "cell_type": "markdown",
   "id": "0b2c1298",
   "metadata": {},
   "source": [
    "## # 3.5.1. Random Forest\n",
    "- I will employ hyperparameter tuning to improve model accuracy"
   ]
  },
  {
   "cell_type": "code",
   "execution_count": 67,
   "id": "0d6006c2",
   "metadata": {},
   "outputs": [
    {
     "name": "stdout",
     "output_type": "stream",
     "text": [
      "{'n_estimators': [10, 14, 18, 23, 27, 32, 36, 41, 45, 50], 'max_features': ['auto', 'sqrt'], 'max_depth': [10, 20, 30, 40, 50, 60, 70, 80, 90, 100, 110, None], 'min_samples_split': [2, 5, 10], 'min_samples_leaf': [1, 2, 4], 'bootstrap': [True, False]}\n"
     ]
    }
   ],
   "source": [
    "# Number of trees in random forest\n",
    "n_estimators = [int(x) for x in np.linspace(start = 10, stop = 50, num = 10)]\n",
    "\n",
    "# Number of features to consider at every split\n",
    "max_features = ['auto', 'sqrt']\n",
    "\n",
    "# Maximum number of levels in tree\n",
    "max_depth = [int(x) for x in np.linspace(10, 110, num = 11)]\n",
    "max_depth.append(None)\n",
    "\n",
    "# Minimum number of samples required to split a node\n",
    "min_samples_split = [2, 5, 10]\n",
    "\n",
    "# Minimum number of samples required at each leaf node\n",
    "min_samples_leaf = [1, 2, 4]\n",
    "\n",
    "# Method of selecting samples for training each tree\n",
    "bootstrap = [True, False]\n",
    "\n",
    "# Create the random grid\n",
    "random_grid = {'n_estimators': n_estimators,\n",
    "               'max_features': max_features,\n",
    "               'max_depth': max_depth,\n",
    "               'min_samples_split': min_samples_split,\n",
    "               'min_samples_leaf': min_samples_leaf,\n",
    "               'bootstrap': bootstrap}\n",
    "print(random_grid)"
   ]
  },
  {
   "cell_type": "code",
   "execution_count": 68,
   "id": "71f919a2",
   "metadata": {},
   "outputs": [
    {
     "name": "stdout",
     "output_type": "stream",
     "text": [
      "Fitting 3 folds for each of 100 candidates, totalling 300 fits\n"
     ]
    },
    {
     "data": {
      "text/plain": [
       "RandomizedSearchCV(cv=3, estimator=RandomForestRegressor(), n_iter=100,\n",
       "                   n_jobs=-1,\n",
       "                   param_distributions={'bootstrap': [True, False],\n",
       "                                        'max_depth': [10, 20, 30, 40, 50, 60,\n",
       "                                                      70, 80, 90, 100, 110,\n",
       "                                                      None],\n",
       "                                        'max_features': ['auto', 'sqrt'],\n",
       "                                        'min_samples_leaf': [1, 2, 4],\n",
       "                                        'min_samples_split': [2, 5, 10],\n",
       "                                        'n_estimators': [10, 14, 18, 23, 27, 32,\n",
       "                                                         36, 41, 45, 50]},\n",
       "                   random_state=42, verbose=2)"
      ]
     },
     "execution_count": 68,
     "metadata": {},
     "output_type": "execute_result"
    }
   ],
   "source": [
    "# Use the random grid to search for best hyperparameters\n",
    "# First create the base model to tune\n",
    "rf1 = RandomForestRegressor()\n",
    "\n",
    "# Random search of parameters, using 3 fold cross validation, \n",
    "# search across 100 different combinations, and use all available cores\n",
    "rf1_random = RandomizedSearchCV(estimator = rf1, param_distributions = random_grid, \n",
    "                               n_iter = 100, cv = 3, verbose=2, random_state=42, n_jobs = -1)\n",
    "\n",
    "# Fit the random search model\n",
    "rf1_random.fit(X_train, y_train)"
   ]
  },
  {
   "cell_type": "code",
   "execution_count": 69,
   "id": "010f01ed",
   "metadata": {},
   "outputs": [
    {
     "data": {
      "text/plain": [
       "{'n_estimators': 18,\n",
       " 'min_samples_split': 2,\n",
       " 'min_samples_leaf': 4,\n",
       " 'max_features': 'auto',\n",
       " 'max_depth': 40,\n",
       " 'bootstrap': True}"
      ]
     },
     "execution_count": 69,
     "metadata": {},
     "output_type": "execute_result"
    }
   ],
   "source": [
    "#Getting the best parameters\n",
    "rf1_random.best_params_"
   ]
  },
  {
   "cell_type": "code",
   "execution_count": 70,
   "id": "19e3f6a1",
   "metadata": {},
   "outputs": [
    {
     "name": "stdout",
     "output_type": "stream",
     "text": [
      "Train: 0.9808702175543886\n",
      "\n",
      "Test: 0.9190404797601199\n"
     ]
    }
   ],
   "source": [
    "# Instantiate and fit a RandomForestClassifier\n",
    "forest1 = RandomForestClassifier(n_estimators = 27, min_samples_split = 5, \n",
    "                                 min_samples_leaf = 4, max_features = 'auto', max_depth = 100, bootstrap = True,\n",
    "                                 random_state = 42)\n",
    "forest1.fit(X_train_scaled, y_train)\n",
    "#ytrain_pred = forest1.predict(X_train)\n",
    "\n",
    "# Training accuracy score\n",
    "print('Train:', forest1.score(X_train_scaled, y_train))\n",
    "print()\n",
    "print('Test:', forest1.score(X_test_scaled, y_test))"
   ]
  },
  {
   "cell_type": "markdown",
   "id": "9bbc3838",
   "metadata": {},
   "source": [
    "### 3.5.1.1.Random Forest results"
   ]
  },
  {
   "cell_type": "markdown",
   "id": "54202cff",
   "metadata": {},
   "source": [
    "- random model 1: Test accuracy 97%\n",
    "- random model 2: Test acuracy 92%\n",
    "\n",
    "- The first model is a better fit. \n",
    "- It has less overfitting.\n",
    "- The random search did take some time to load though"
   ]
  },
  {
   "cell_type": "markdown",
   "id": "022d7612",
   "metadata": {},
   "source": [
    "### 3.5.2. Decision Tree Classifier"
   ]
  },
  {
   "cell_type": "code",
   "execution_count": 71,
   "id": "ef6bcc94",
   "metadata": {},
   "outputs": [],
   "source": [
    "#Using GridSearchCV\n",
    "# Setting tuning parameters\n",
    "dt_params={\n",
    "    'max_depth':[2, 4, 5, 10],\n",
    "    'min_samples_leaf': [5, 15, 20, 50],\n",
    "    'min_samples_split': [10, 20, 30, 40],\n",
    "    'criterion':['gini','entropy']\n",
    "}"
   ]
  },
  {
   "cell_type": "code",
   "execution_count": 72,
   "id": "cc59298c",
   "metadata": {},
   "outputs": [],
   "source": [
    "#Instantiating the grid search\n",
    "dt_gscv = GridSearchCV(decision_tree, dt_params, cv=3, return_train_score=True)"
   ]
  },
  {
   "cell_type": "code",
   "execution_count": 73,
   "id": "dd56e3df",
   "metadata": {},
   "outputs": [
    {
     "data": {
      "text/plain": [
       "GridSearchCV(cv=3, estimator=DecisionTreeClassifier(random_state=42),\n",
       "             param_grid={'criterion': ['gini', 'entropy'],\n",
       "                         'max_depth': [2, 4, 5, 10],\n",
       "                         'min_samples_leaf': [5, 15, 20, 50],\n",
       "                         'min_samples_split': [10, 20, 30, 40]},\n",
       "             return_train_score=True)"
      ]
     },
     "execution_count": 73,
     "metadata": {},
     "output_type": "execute_result"
    }
   ],
   "source": [
    "#Fitting grid search\n",
    "dt_gscv.fit(X_train, y_train)"
   ]
  },
  {
   "cell_type": "code",
   "execution_count": 74,
   "id": "8125c346",
   "metadata": {},
   "outputs": [
    {
     "data": {
      "text/plain": [
       "DecisionTreeClassifier(max_depth=5, min_samples_leaf=5, min_samples_split=10,\n",
       "                       random_state=42)"
      ]
     },
     "execution_count": 74,
     "metadata": {},
     "output_type": "execute_result"
    }
   ],
   "source": [
    "dt = dt_gscv.best_estimator_\n",
    "dt"
   ]
  },
  {
   "cell_type": "code",
   "execution_count": 75,
   "id": "7e88769a",
   "metadata": {},
   "outputs": [
    {
     "data": {
      "text/plain": [
       "0.9220389805097451"
      ]
     },
     "execution_count": 75,
     "metadata": {},
     "output_type": "execute_result"
    }
   ],
   "source": [
    "dt = DecisionTreeClassifier(max_depth = 5, min_samples_leaf = 5, min_samples_split=10, random_state = 42)\n",
    "dt.fit(X_train_scaled, y_train)\n",
    "y_pred = dt.predict(X_test_scaled)\n",
    "false_positive_rate, true_positive_rate, thresholds = roc_curve(y_test, y_pred, pos_label = 2)\n",
    "roc_auc = auc(false_positive_rate, true_positive_rate)\n",
    "roc_auc\n",
    "acc = (accuracy_score(y_pred, y_test))\n",
    "acc"
   ]
  },
  {
   "cell_type": "code",
   "execution_count": 76,
   "id": "85466c0f",
   "metadata": {},
   "outputs": [
    {
     "name": "stdout",
     "output_type": "stream",
     "text": [
      "Decision tree accuracy score:\n",
      "\n",
      "Train: 0.9797449362340586\n",
      "--------------\n",
      "test: 0.9220389805097451\n"
     ]
    }
   ],
   "source": [
    "print('Decision tree accuracy score:')\n",
    "print('')\n",
    "print('Train:', dt.score(X_train_scaled, y_train))\n",
    "print('--------------')\n",
    "print('test:', acc)\n"
   ]
  },
  {
   "cell_type": "markdown",
   "id": "bb0b7ebd",
   "metadata": {},
   "source": [
    "### Decision Tree Train accuracy results\n",
    "- Decision Tree model 1 = Test Accuracy:93%\n",
    "- Decision Tree model 2 = Test Accuracy:92%\n",
    "- Decision Tree model 3 = Test Accuracy:92%\n",
    "\n",
    "The second model performs better"
   ]
  },
  {
   "cell_type": "markdown",
   "id": "5a7f84ba",
   "metadata": {},
   "source": [
    "## 3. KNearest Neighbors, KNN"
   ]
  },
  {
   "cell_type": "code",
   "execution_count": 77,
   "id": "6282d89f",
   "metadata": {},
   "outputs": [],
   "source": [
    "#we’ll build a kNN classifier object\n",
    "knn5 = KNeighborsClassifier(n_neighbors = 5)\n",
    "knn1 = KNeighborsClassifier(n_neighbors=1)"
   ]
  },
  {
   "cell_type": "code",
   "execution_count": 78,
   "id": "8a386f4a",
   "metadata": {},
   "outputs": [],
   "source": [
    "#Then, in the test set, we forecast the target values and compare them to the actual values.\n",
    "knn5.fit(X_train_scaled, y_train)\n",
    "knn1.fit(X_train_scaled, y_train)\n",
    "\n",
    "y_pred_5 = knn5.predict(X_test_scaled)\n",
    "y_pred_1 = knn1.predict(X_test_scaled)"
   ]
  },
  {
   "cell_type": "code",
   "execution_count": 79,
   "id": "94fb7b96",
   "metadata": {},
   "outputs": [
    {
     "name": "stdout",
     "output_type": "stream",
     "text": [
      "Accuracy with k=5 90.55472263868066\n",
      "Accuracy with k=1 88.45577211394303\n"
     ]
    }
   ],
   "source": [
    "#Predict Accuracy for both k values\n",
    "from sklearn.metrics import accuracy_score\n",
    "print(\"Accuracy with k=5\", accuracy_score(y_test, y_pred_5)*100)\n",
    "print(\"Accuracy with k=1\", accuracy_score(y_test, y_pred_1)*100)"
   ]
  },
  {
   "cell_type": "markdown",
   "id": "55333f47",
   "metadata": {},
   "source": [
    "### Knn Train accuracy results\n",
    "-  KNN 1 = 90%\n",
    "The accuracy for the values of k comes out as follows:\n",
    "-  KNN 2 = with k=5=91%\n",
    "                k=1=88%\n",
    "\n",
    "The second model performs better"
   ]
  },
  {
   "cell_type": "markdown",
   "id": "2da530f8",
   "metadata": {},
   "source": [
    "### a plot to see the k-value for which we have high accuracy."
   ]
  },
  {
   "cell_type": "code",
   "execution_count": 80,
   "id": "4e630b2a",
   "metadata": {},
   "outputs": [
    {
     "data": {
      "image/png": "[encoded data removed]",
      "text/plain": [
       "<Figure size 432x288 with 1 Axes>"
      ]
     },
     "metadata": {
      "needs_background": "light"
     },
     "output_type": "display_data"
    }
   ],
   "source": [
    "neighbors = np.arange(1, 10)\n",
    "train_accuracy = np.empty(len(neighbors))\n",
    "test_accuracy = np.empty(len(neighbors))\n",
    "  \n",
    "# Loop over K values\n",
    "for i, k in enumerate(neighbors):\n",
    "    knn = KNeighborsClassifier(n_neighbors=k)\n",
    "    knn.fit(X_train_scaled, y_train)\n",
    "      \n",
    "# Compute training and test data accuracy\n",
    "    train_accuracy[i] = knn.score(X_train_scaled, y_train)\n",
    "    test_accuracy[i] = knn.score(X_test_scaled, y_test)\n",
    "  \n",
    "\n",
    "plt.plot(neighbors, test_accuracy, label = 'Testing dataset Accuracy')\n",
    "plt.plot(neighbors, train_accuracy, label = 'Training dataset Accuracy')\n",
    "  \n",
    "plt.legend()\n",
    "plt.xlabel('n_neighbors')\n",
    "plt.ylabel('Accuracy')\n",
    "plt.show()"
   ]
  },
  {
   "cell_type": "markdown",
   "id": "ada5f37b",
   "metadata": {},
   "source": [
    "The higher the k value the less the overfitting"
   ]
  },
  {
   "cell_type": "markdown",
   "id": "428301d1",
   "metadata": {},
   "source": [
    "## 3.6. Evaluation"
   ]
  },
  {
   "cell_type": "markdown",
   "id": "0a2758b4",
   "metadata": {},
   "source": [
    "-Choosing the model that has the best performance, I will instantiate a final model with these best parameters."
   ]
  },
  {
   "cell_type": "code",
   "execution_count": 81,
   "id": "bef6ac15",
   "metadata": {},
   "outputs": [
    {
     "data": {
      "text/plain": [
       "RandomForestClassifier(bootstrap=False, max_features='sqrt', min_samples_leaf=2,\n",
       "                       min_samples_split=5, n_estimators=36, random_state=42)"
      ]
     },
     "execution_count": 81,
     "metadata": {},
     "output_type": "execute_result"
    }
   ],
   "source": [
    "final_model = RandomForestClassifier(n_estimators = 36, min_samples_split = 5, \n",
    "                                 min_samples_leaf = 2, max_features = 'sqrt', max_depth = None, bootstrap = False,\n",
    "                                 random_state = 42)\n",
    "\n",
    "# Fit the model on the full training data\n",
    "final_model.fit(X_train, y_train)"
   ]
  },
  {
   "cell_type": "code",
   "execution_count": 82,
   "id": "f077ffc5",
   "metadata": {},
   "outputs": [
    {
     "name": "stdout",
     "output_type": "stream",
     "text": [
      "log loss:  0.33511418046829167\n",
      "accuracy:  0.967016491754123\n"
     ]
    }
   ],
   "source": [
    "#evaluate the log loss, accuracy, precision, and recall.\n",
    "preds = final_model.predict(X_test)\n",
    "probs = final_model.predict_proba(X_test)\n",
    "\n",
    "\n",
    "print(\"log loss: \", log_loss(y_test, probs))\n",
    "print(\"accuracy: \", accuracy_score(y_test, preds))\n",
    "#print(classification_report(y_test, preds, digits=3))"
   ]
  },
  {
   "cell_type": "markdown",
   "id": "2ea6be38",
   "metadata": {},
   "source": [
    "- From the final model, we can now run a feature importance.\n",
    "- This will help show which features matter most.\n",
    "- I will list all of top 5"
   ]
  },
  {
   "cell_type": "code",
   "execution_count": 83,
   "id": "a3bacc46",
   "metadata": {},
   "outputs": [
    {
     "data": {
      "image/png": "[encoded data removed]",
      "text/plain": [
       "<Figure size 720x720 with 1 Axes>"
      ]
     },
     "metadata": {
      "needs_background": "light"
     },
     "output_type": "display_data"
    }
   ],
   "source": [
    "features = X_train.columns\n",
    "importances = final_model.feature_importances_\n",
    "indices = np.argsort(importances)[:5]\n",
    "\n",
    "# customized number \n",
    "num_features = 5\n",
    "\n",
    "plt.figure(figsize=(10,10))\n",
    "plt.title('Feature Importances')\n",
    "plt.barh(range(len(indices)), importances[indices], color='r', align='center')\n",
    "plt.yticks(range(len(indices)), [features[i] for i in indices])\n",
    "plt.xlabel('Relative Importance')\n",
    "plt.show()"
   ]
  },
  {
   "cell_type": "markdown",
   "id": "ad87df76",
   "metadata": {},
   "source": [
    "### Observation\n",
    "- From the feature importance some features standout.\n",
    "- Total day calls stands out the most in key feature importance.\n",
    "- Several other factors stand out e.g. coloured water quality, other source types, management groups that fall under unknown.\n"
   ]
  },
  {
   "cell_type": "markdown",
   "id": "83c65e0a",
   "metadata": {},
   "source": [
    "### Interpretation\n",
    "dummy accuracy = 50%\n",
    "\n",
    "final model accuracy = 97% \n",
    "\n",
    "The model has a 97% accuracy which is an improvement from the dummy.\n"
   ]
  },
  {
   "cell_type": "markdown",
   "id": "90f621bd",
   "metadata": {},
   "source": [
    "# 4. Conclusion"
   ]
  },
  {
   "cell_type": "markdown",
   "id": "f7631cef",
   "metadata": {},
   "source": [
    "-Customers who called customer service more than 3 times tend to leave.  \n",
    "-Customers who have international plan churn at a higher rate than the customers who has not.  \n",
    "-Account length doesn't play a crucial role determining customer churn behavior.  \n",
    "-Customer churn rate is higher for customers who pay more in total. Total charge and total day charge have a linear relationship.\n"
   ]
  },
  {
   "cell_type": "markdown",
   "id": "e7ee3207",
   "metadata": {},
   "source": [
    "# 5. Recommendations"
   ]
  },
  {
   "cell_type": "markdown",
   "id": "5eaf7713",
   "metadata": {},
   "source": [
    "-Customer service should follow-up with the customers who call 3 times and offer promotions or discounts like a free month.  \n",
    "-Syriatel should revisit its international plan and adjust the pricing.  \n",
    "-Syriatel should offer free voice mail plan for everyone.  "
   ]
  }
 ],
 "metadata": {
  "kernelspec": {
   "display_name": "Python 3 (ipykernel)",
   "language": "python",
   "name": "python3"
  },
  "language_info": {
   "codemirror_mode": {
    "name": "ipython",
    "version": 3
   },
   "file_extension": ".py",
   "mimetype": "text/x-python",
   "name": "python",
   "nbconvert_exporter": "python",
   "pygments_lexer": "ipython3",
   "version": "3.9.12"
  }
 },
 "nbformat": 4,
 "nbformat_minor": 5
}
